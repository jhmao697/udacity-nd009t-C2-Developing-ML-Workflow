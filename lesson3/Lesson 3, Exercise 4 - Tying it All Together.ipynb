{
 "cells": [
  {
   "cell_type": "markdown",
   "id": "134e2d03",
   "metadata": {},
   "source": [
    "# UDACITY Designing Your First Workflow - Tying it All Together"
   ]
  },
  {
   "cell_type": "markdown",
   "id": "d6e03226",
   "metadata": {},
   "source": [
    "AWS is comprised of many services, and one of the main skills you'll develop as an ML Engineer working in AWS is in chaining these services together to accomplish specific data engineering goals. With Lambda, you've learned how to launch serverless jobs, and with Step Functions, you've learned how to create a workflow that chains jobs together. Now, you'll learn how to launch a Step Function using a Lambda job. "
   ]
  },
  {
   "cell_type": "markdown",
   "id": "306881a2",
   "metadata": {},
   "source": [
    "Before starting this, it's important to highlight that this is not the only way to accomplish something like this. Multiple services integrate with Step Functions, and so it follows that there are multiple ways to launch Step Functions. These services, among others, include API Gateway, EventBridge, and even other Step Functions. "
   ]
  },
  {
   "cell_type": "markdown",
   "id": "fd72b5ed",
   "metadata": {},
   "source": [
    "Your task is to create a new lambda function that will launch the state machine you created in the **last exercise**. You'll then launch this lambda function from the command line. To find the definition of the step function you've made, click into the step function and look for the definition under the 'Definition' tab. "
   ]
  },
  {
   "cell_type": "markdown",
   "id": "23232098",
   "metadata": {},
   "source": [
    "First, create a new Lambda role. Attach to this role the StepFunctionsFullAccess policy. Then create a new lambda function under the default template, and attach this new role to it. Use the starter code below to help you modify the lambda handler to accomplish your task. "
   ]
  },
  {
   "cell_type": "markdown",
   "id": "25d13b61",
   "metadata": {},
   "source": [
    "As Step Function cannot execute more than once with the same name, you must update the definition with a new name. You can find the existing definition of a Step Function in the AWS Console under 'Step Functions'. In the lambda function code below, update the 'definition' with the step function definition from your last exercise, with the only difference being the, step fucntion name, processing-job name and the training-job name. "
   ]
  },
  {
   "cell_type": "markdown",
   "id": "d84f26f3",
   "metadata": {},
   "source": [
    "## Exercise: Create the Lambda Function"
   ]
  },
  {
   "cell_type": "code",
   "execution_count": 13,
   "id": "70233ab1",
   "metadata": {},
   "outputs": [],
   "source": [
    "import json\n",
    "import boto3\n",
    "import time\n",
    "\n",
    "client = boto3.client('stepfunctions')\n",
    "\n",
    "# todo, copy the definition from the last exercise and paste it below. \n",
    "# Also change the names of step function, training job and processing job. \n",
    "definition = \"\"\"\n",
    "{\n",
    "  \"StartAt\": \"SageMaker pre-processing step 4\",\n",
    "  \"States\": {\n",
    "    \"SageMaker pre-processing step 4\": {\n",
    "      \"Resource\": \"arn:aws:states:::sagemaker:createProcessingJob.sync\",\n",
    "      \"Parameters\": {\n",
    "        \"ProcessingJobName\": \"ex3-creating-workflow-w-stepfunc\",\n",
    "        \"ProcessingInputs\": [\n",
    "          {\n",
    "            \"InputName\": \"input-1\",\n",
    "            \"AppManaged\": false,\n",
    "            \"S3Input\": {\n",
    "              \"S3Uri\": \"s3://sagemaker-us-east-1-759895829784/ex3-workflow-stepfunc/reviews_Musical_Instruments_5.json.zip\",\n",
    "              \"LocalPath\": \"/opt/ml/processing/input\",\n",
    "              \"S3DataType\": \"S3Prefix\",\n",
    "              \"S3InputMode\": \"File\",\n",
    "              \"S3DataDistributionType\": \"FullyReplicated\",\n",
    "              \"S3CompressionType\": \"None\"\n",
    "            }\n",
    "          },\n",
    "          {\n",
    "            \"InputName\": \"code\",\n",
    "            \"AppManaged\": false,\n",
    "            \"S3Input\": {\n",
    "              \"S3Uri\": \"s3://sagemaker-us-east-1-759895829784/ex3-workflow-stepfunc/HelloBlazePreprocess.py\",\n",
    "              \"LocalPath\": \"/opt/ml/processing/input/code\",\n",
    "              \"S3DataType\": \"S3Prefix\",\n",
    "              \"S3InputMode\": \"File\",\n",
    "              \"S3DataDistributionType\": \"FullyReplicated\",\n",
    "              \"S3CompressionType\": \"None\"\n",
    "            }\n",
    "          }\n",
    "        ],\n",
    "        \"ProcessingOutputConfig\": {\n",
    "          \"Outputs\": [\n",
    "            {\n",
    "              \"OutputName\": \"train_data\",\n",
    "              \"AppManaged\": false,\n",
    "              \"S3Output\": {\n",
    "                \"S3Uri\": \"s3://sagemaker-us-east-1-759895829784/hello_blaze_train_scikit\",\n",
    "                \"LocalPath\": \"/opt/ml/processing/output/train\",\n",
    "                \"S3UploadMode\": \"EndOfJob\"\n",
    "              }\n",
    "            },\n",
    "            {\n",
    "              \"OutputName\": \"test_data\",\n",
    "              \"AppManaged\": false,\n",
    "              \"S3Output\": {\n",
    "                \"S3Uri\": \"s3://sagemaker-us-east-1-759895829784/hello_blaze_test_scikit\",\n",
    "                \"LocalPath\": \"/opt/ml/processing/output/test\",\n",
    "                \"S3UploadMode\": \"EndOfJob\"\n",
    "              }\n",
    "            }\n",
    "          ]\n",
    "        },\n",
    "        \"AppSpecification\": {\n",
    "          \"ImageUri\": \"683313688378.dkr.ecr.us-east-1.amazonaws.com/sagemaker-scikit-learn:0.20.0-cpu-py3\",\n",
    "          \"ContainerEntrypoint\": [\n",
    "            \"python3\",\n",
    "            \"/opt/ml/processing/input/code/HelloBlazePreprocess.py\"\n",
    "          ]\n",
    "        },\n",
    "        \"RoleArn\": \"arn:aws:iam::759895829784:role/service-role/AmazonSageMaker-ExecutionRole-20240119T140378\",\n",
    "        \"ProcessingResources\": {\n",
    "          \"ClusterConfig\": {\n",
    "            \"InstanceCount\": 1,\n",
    "            \"InstanceType\": \"ml.m5.large\",\n",
    "            \"VolumeSizeInGB\": 30\n",
    "          }\n",
    "        }\n",
    "      },\n",
    "      \"Type\": \"Task\",\n",
    "      \"Next\": \"SageMaker Training Step\"\n",
    "    },\n",
    "    \"SageMaker Training Step\": {\n",
    "      \"Resource\": \"arn:aws:states:::sagemaker:createTrainingJob.sync\",\n",
    "      \"Parameters\": {\n",
    "        \"AlgorithmSpecification\": {\n",
    "          \"TrainingImage\": \"811284229777.dkr.ecr.us-east-1.amazonaws.com/blazingtext:1\",\n",
    "          \"TrainingInputMode\": \"File\"\n",
    "        },\n",
    "        \"OutputDataConfig\": {\n",
    "          \"S3OutputPath\": \"s3://sagemaker-us-east-1-759895829784/ex3-workflow-stepfunc/\"\n",
    "        },\n",
    "        \"StoppingCondition\": {\n",
    "          \"MaxRuntimeInSeconds\": 360000\n",
    "        },\n",
    "        \"ResourceConfig\": {\n",
    "          \"VolumeSizeInGB\": 30,\n",
    "          \"InstanceCount\": 1,\n",
    "          \"InstanceType\": \"ml.m5.large\"\n",
    "        },\n",
    "        \"RoleArn\": \"arn:aws:iam::759895829784:role/service-role/AmazonSageMaker-ExecutionRole-20240119T140378\",\n",
    "        \"InputDataConfig\": [\n",
    "          {\n",
    "            \"DataSource\": {\n",
    "              \"S3DataSource\": {\n",
    "                \"S3DataType\": \"S3Prefix\",\n",
    "                \"S3Uri\": \"s3://sagemaker-us-east-1-759895829784/hello_blaze_train_scikit\",\n",
    "                \"S3DataDistributionType\": \"FullyReplicated\"\n",
    "              }\n",
    "            },\n",
    "            \"ContentType\": \"text/plain\",\n",
    "            \"ChannelName\": \"train\"\n",
    "          },\n",
    "          {\n",
    "            \"DataSource\": {\n",
    "              \"S3DataSource\": {\n",
    "                \"S3DataType\": \"S3Prefix\",\n",
    "                \"S3Uri\": \"s3://sagemaker-us-east-1-759895829784/hello_blaze_test_scikit\",\n",
    "                \"S3DataDistributionType\": \"FullyReplicated\"\n",
    "              }\n",
    "            },\n",
    "            \"ContentType\": \"text/plain\",\n",
    "            \"ChannelName\": \"validation\"\n",
    "          }\n",
    "        ],\n",
    "        \"HyperParameters\": {\n",
    "          \"mode\": \"supervised\"\n",
    "        },\n",
    "        \"TrainingJobName\": \"trainng-step\",\n",
    "        \"DebugHookConfig\": {\n",
    "          \"S3OutputPath\": \"s3://sagemaker-us-east-1-759895829784/ex3-workflow-stepfunc/\"\n",
    "        }\n",
    "      },\n",
    "      \"Type\": \"Task\",\n",
    "      \"End\": true\n",
    "    }\n",
    "  }\n",
    "}\n",
    "\"\"\"\n",
    "\n",
    "def lambda_handler(event, context):\n",
    "    #todo \n",
    "    client.update_state_machine(definition=definition, stateMachineArn='arn:aws:states:us-east-1:759895829784:stateMachine:process-training-35377') \n",
    "    # Give AWS time to register the defintion\n",
    "    time.sleep(5)\n",
    "    #todo\n",
    "    client.start_execution(input='{}', name='lambda-invoke-stepfunc', stateMachineArn='arn:aws:states:us-east-1:759895829784:stateMachine:process-training-35377') \n",
    "    \n",
    "    return {\n",
    "        'statusCode': 200,\n",
    "        'body': 'The step function has successfully launched!'\n",
    "    }\n"
   ]
  },
  {
   "cell_type": "markdown",
   "id": "966f5b08",
   "metadata": {},
   "source": [
    "## Exercise: Launch the Lambda Function\n"
   ]
  },
  {
   "cell_type": "markdown",
   "id": "1abd804d",
   "metadata": {},
   "source": [
    "Launch the lambda function and confirm the step function is created successfully."
   ]
  },
  {
   "cell_type": "markdown",
   "id": "57e3625d-049b-4d9e-ab0e-75234f340bd9",
   "metadata": {},
   "source": [
    "Asynchronous invocation"
   ]
  },
  {
   "cell_type": "code",
   "execution_count": 33,
   "id": "5d1e1f58-fabf-44e4-b5d1-1330496aa2d6",
   "metadata": {},
   "outputs": [],
   "source": [
    "import boto3\n",
    "from sagemaker import get_execution_role \n",
    "## The SageMaker role executing your notebook needs to have Lambda permissions. \n",
    "import json\n",
    "\n",
    "client = boto3.client('lambda')\n",
    "\n",
    "payload = {\"s3-dataset-uri\": \"sagemaker-us-east-1-759895829784/ex3-workflow-stepfunc/reviews_Musical_Instruments_5.json.zip\"}\n",
    "\n",
    "payload_bytes = json.dumps(payload).encode('utf-8')\n",
    "\n",
    "response = client.invoke(\n",
    "    FunctionName='StepFuncLambda',\n",
    "    InvocationType='Event',\n",
    "    Payload=payload_bytes\n",
    ")"
   ]
  },
  {
   "cell_type": "code",
   "execution_count": 34,
   "id": "5cdb491e-729b-4626-b488-532a94ab642c",
   "metadata": {},
   "outputs": [
    {
     "name": "stdout",
     "output_type": "stream",
     "text": [
      "{'ResponseMetadata': {'RequestId': 'e71a46d8-c7ee-402c-80e8-f18609843ee6', 'HTTPStatusCode': 202, 'HTTPHeaders': {'date': 'Tue, 23 Jan 2024 20:32:53 GMT', 'content-length': '0', 'connection': 'keep-alive', 'x-amzn-requestid': 'e71a46d8-c7ee-402c-80e8-f18609843ee6', 'x-amzn-remapped-content-length': '0', 'x-amzn-trace-id': 'root=1-65b02275-5276ac7905af6c5d02613d68;sampled=0'}, 'RetryAttempts': 0}, 'StatusCode': 202, 'Payload': <botocore.response.StreamingBody object at 0x7f124e2e1bd0>}\n"
     ]
    }
   ],
   "source": [
    "print(response)"
   ]
  },
  {
   "cell_type": "markdown",
   "id": "3db4ee82-70ec-42ff-958a-68c05b51a47e",
   "metadata": {},
   "source": [
    "Synchronous invocation"
   ]
  },
  {
   "cell_type": "code",
   "execution_count": 35,
   "id": "adf48411-4776-4fa6-aba1-c89b69e1d17b",
   "metadata": {},
   "outputs": [
    {
     "name": "stdout",
     "output_type": "stream",
     "text": [
      "{\n",
      "    \"StatusCode\": 200,\n",
      "    \"FunctionError\": \"Unhandled\",\n",
      "    \"ExecutedVersion\": \"$LATEST\"\n",
      "}\n"
     ]
    }
   ],
   "source": [
    "%%bash \n",
    "aws lambda invoke --function-name StepFuncLambda --payload '{\"s3-dataset-uri\": \"sagemaker-us-east-1-759895829784/ex3-workflow-stepfunc/reviews_Musical_Instruments_5.json.zip\"}' response.json"
   ]
  },
  {
   "cell_type": "markdown",
   "id": "d8b6b4d5",
   "metadata": {},
   "source": [
    "## Conceptual Exercise: What are next steps? "
   ]
  },
  {
   "cell_type": "markdown",
   "id": "fb29a82d",
   "metadata": {},
   "source": [
    "Right now, the Step Function that we made in the prior exercise has a hard-coded location of the dataset we input, as well as all of the locations of the intermediary steps. What are ways that you could modify the Step Function to make it more generalizable? If you could input an S3 location, how could you integrate it with Lambda so that it could asychronously be called? "
   ]
  }
 ],
 "metadata": {
  "availableInstances": [
   {
    "_defaultOrder": 0,
    "_isFastLaunch": true,
    "category": "General purpose",
    "gpuNum": 0,
    "hideHardwareSpecs": false,
    "memoryGiB": 4,
    "name": "ml.t3.medium",
    "vcpuNum": 2
   },
   {
    "_defaultOrder": 1,
    "_isFastLaunch": false,
    "category": "General purpose",
    "gpuNum": 0,
    "hideHardwareSpecs": false,
    "memoryGiB": 8,
    "name": "ml.t3.large",
    "vcpuNum": 2
   },
   {
    "_defaultOrder": 2,
    "_isFastLaunch": false,
    "category": "General purpose",
    "gpuNum": 0,
    "hideHardwareSpecs": false,
    "memoryGiB": 16,
    "name": "ml.t3.xlarge",
    "vcpuNum": 4
   },
   {
    "_defaultOrder": 3,
    "_isFastLaunch": false,
    "category": "General purpose",
    "gpuNum": 0,
    "hideHardwareSpecs": false,
    "memoryGiB": 32,
    "name": "ml.t3.2xlarge",
    "vcpuNum": 8
   },
   {
    "_defaultOrder": 4,
    "_isFastLaunch": true,
    "category": "General purpose",
    "gpuNum": 0,
    "hideHardwareSpecs": false,
    "memoryGiB": 8,
    "name": "ml.m5.large",
    "vcpuNum": 2
   },
   {
    "_defaultOrder": 5,
    "_isFastLaunch": false,
    "category": "General purpose",
    "gpuNum": 0,
    "hideHardwareSpecs": false,
    "memoryGiB": 16,
    "name": "ml.m5.xlarge",
    "vcpuNum": 4
   },
   {
    "_defaultOrder": 6,
    "_isFastLaunch": false,
    "category": "General purpose",
    "gpuNum": 0,
    "hideHardwareSpecs": false,
    "memoryGiB": 32,
    "name": "ml.m5.2xlarge",
    "vcpuNum": 8
   },
   {
    "_defaultOrder": 7,
    "_isFastLaunch": false,
    "category": "General purpose",
    "gpuNum": 0,
    "hideHardwareSpecs": false,
    "memoryGiB": 64,
    "name": "ml.m5.4xlarge",
    "vcpuNum": 16
   },
   {
    "_defaultOrder": 8,
    "_isFastLaunch": false,
    "category": "General purpose",
    "gpuNum": 0,
    "hideHardwareSpecs": false,
    "memoryGiB": 128,
    "name": "ml.m5.8xlarge",
    "vcpuNum": 32
   },
   {
    "_defaultOrder": 9,
    "_isFastLaunch": false,
    "category": "General purpose",
    "gpuNum": 0,
    "hideHardwareSpecs": false,
    "memoryGiB": 192,
    "name": "ml.m5.12xlarge",
    "vcpuNum": 48
   },
   {
    "_defaultOrder": 10,
    "_isFastLaunch": false,
    "category": "General purpose",
    "gpuNum": 0,
    "hideHardwareSpecs": false,
    "memoryGiB": 256,
    "name": "ml.m5.16xlarge",
    "vcpuNum": 64
   },
   {
    "_defaultOrder": 11,
    "_isFastLaunch": false,
    "category": "General purpose",
    "gpuNum": 0,
    "hideHardwareSpecs": false,
    "memoryGiB": 384,
    "name": "ml.m5.24xlarge",
    "vcpuNum": 96
   },
   {
    "_defaultOrder": 12,
    "_isFastLaunch": false,
    "category": "General purpose",
    "gpuNum": 0,
    "hideHardwareSpecs": false,
    "memoryGiB": 8,
    "name": "ml.m5d.large",
    "vcpuNum": 2
   },
   {
    "_defaultOrder": 13,
    "_isFastLaunch": false,
    "category": "General purpose",
    "gpuNum": 0,
    "hideHardwareSpecs": false,
    "memoryGiB": 16,
    "name": "ml.m5d.xlarge",
    "vcpuNum": 4
   },
   {
    "_defaultOrder": 14,
    "_isFastLaunch": false,
    "category": "General purpose",
    "gpuNum": 0,
    "hideHardwareSpecs": false,
    "memoryGiB": 32,
    "name": "ml.m5d.2xlarge",
    "vcpuNum": 8
   },
   {
    "_defaultOrder": 15,
    "_isFastLaunch": false,
    "category": "General purpose",
    "gpuNum": 0,
    "hideHardwareSpecs": false,
    "memoryGiB": 64,
    "name": "ml.m5d.4xlarge",
    "vcpuNum": 16
   },
   {
    "_defaultOrder": 16,
    "_isFastLaunch": false,
    "category": "General purpose",
    "gpuNum": 0,
    "hideHardwareSpecs": false,
    "memoryGiB": 128,
    "name": "ml.m5d.8xlarge",
    "vcpuNum": 32
   },
   {
    "_defaultOrder": 17,
    "_isFastLaunch": false,
    "category": "General purpose",
    "gpuNum": 0,
    "hideHardwareSpecs": false,
    "memoryGiB": 192,
    "name": "ml.m5d.12xlarge",
    "vcpuNum": 48
   },
   {
    "_defaultOrder": 18,
    "_isFastLaunch": false,
    "category": "General purpose",
    "gpuNum": 0,
    "hideHardwareSpecs": false,
    "memoryGiB": 256,
    "name": "ml.m5d.16xlarge",
    "vcpuNum": 64
   },
   {
    "_defaultOrder": 19,
    "_isFastLaunch": false,
    "category": "General purpose",
    "gpuNum": 0,
    "hideHardwareSpecs": false,
    "memoryGiB": 384,
    "name": "ml.m5d.24xlarge",
    "vcpuNum": 96
   },
   {
    "_defaultOrder": 20,
    "_isFastLaunch": false,
    "category": "General purpose",
    "gpuNum": 0,
    "hideHardwareSpecs": true,
    "memoryGiB": 0,
    "name": "ml.geospatial.interactive",
    "supportedImageNames": [
     "sagemaker-geospatial-v1-0"
    ],
    "vcpuNum": 0
   },
   {
    "_defaultOrder": 21,
    "_isFastLaunch": true,
    "category": "Compute optimized",
    "gpuNum": 0,
    "hideHardwareSpecs": false,
    "memoryGiB": 4,
    "name": "ml.c5.large",
    "vcpuNum": 2
   },
   {
    "_defaultOrder": 22,
    "_isFastLaunch": false,
    "category": "Compute optimized",
    "gpuNum": 0,
    "hideHardwareSpecs": false,
    "memoryGiB": 8,
    "name": "ml.c5.xlarge",
    "vcpuNum": 4
   },
   {
    "_defaultOrder": 23,
    "_isFastLaunch": false,
    "category": "Compute optimized",
    "gpuNum": 0,
    "hideHardwareSpecs": false,
    "memoryGiB": 16,
    "name": "ml.c5.2xlarge",
    "vcpuNum": 8
   },
   {
    "_defaultOrder": 24,
    "_isFastLaunch": false,
    "category": "Compute optimized",
    "gpuNum": 0,
    "hideHardwareSpecs": false,
    "memoryGiB": 32,
    "name": "ml.c5.4xlarge",
    "vcpuNum": 16
   },
   {
    "_defaultOrder": 25,
    "_isFastLaunch": false,
    "category": "Compute optimized",
    "gpuNum": 0,
    "hideHardwareSpecs": false,
    "memoryGiB": 72,
    "name": "ml.c5.9xlarge",
    "vcpuNum": 36
   },
   {
    "_defaultOrder": 26,
    "_isFastLaunch": false,
    "category": "Compute optimized",
    "gpuNum": 0,
    "hideHardwareSpecs": false,
    "memoryGiB": 96,
    "name": "ml.c5.12xlarge",
    "vcpuNum": 48
   },
   {
    "_defaultOrder": 27,
    "_isFastLaunch": false,
    "category": "Compute optimized",
    "gpuNum": 0,
    "hideHardwareSpecs": false,
    "memoryGiB": 144,
    "name": "ml.c5.18xlarge",
    "vcpuNum": 72
   },
   {
    "_defaultOrder": 28,
    "_isFastLaunch": false,
    "category": "Compute optimized",
    "gpuNum": 0,
    "hideHardwareSpecs": false,
    "memoryGiB": 192,
    "name": "ml.c5.24xlarge",
    "vcpuNum": 96
   },
   {
    "_defaultOrder": 29,
    "_isFastLaunch": true,
    "category": "Accelerated computing",
    "gpuNum": 1,
    "hideHardwareSpecs": false,
    "memoryGiB": 16,
    "name": "ml.g4dn.xlarge",
    "vcpuNum": 4
   },
   {
    "_defaultOrder": 30,
    "_isFastLaunch": false,
    "category": "Accelerated computing",
    "gpuNum": 1,
    "hideHardwareSpecs": false,
    "memoryGiB": 32,
    "name": "ml.g4dn.2xlarge",
    "vcpuNum": 8
   },
   {
    "_defaultOrder": 31,
    "_isFastLaunch": false,
    "category": "Accelerated computing",
    "gpuNum": 1,
    "hideHardwareSpecs": false,
    "memoryGiB": 64,
    "name": "ml.g4dn.4xlarge",
    "vcpuNum": 16
   },
   {
    "_defaultOrder": 32,
    "_isFastLaunch": false,
    "category": "Accelerated computing",
    "gpuNum": 1,
    "hideHardwareSpecs": false,
    "memoryGiB": 128,
    "name": "ml.g4dn.8xlarge",
    "vcpuNum": 32
   },
   {
    "_defaultOrder": 33,
    "_isFastLaunch": false,
    "category": "Accelerated computing",
    "gpuNum": 4,
    "hideHardwareSpecs": false,
    "memoryGiB": 192,
    "name": "ml.g4dn.12xlarge",
    "vcpuNum": 48
   },
   {
    "_defaultOrder": 34,
    "_isFastLaunch": false,
    "category": "Accelerated computing",
    "gpuNum": 1,
    "hideHardwareSpecs": false,
    "memoryGiB": 256,
    "name": "ml.g4dn.16xlarge",
    "vcpuNum": 64
   },
   {
    "_defaultOrder": 35,
    "_isFastLaunch": false,
    "category": "Accelerated computing",
    "gpuNum": 1,
    "hideHardwareSpecs": false,
    "memoryGiB": 61,
    "name": "ml.p3.2xlarge",
    "vcpuNum": 8
   },
   {
    "_defaultOrder": 36,
    "_isFastLaunch": false,
    "category": "Accelerated computing",
    "gpuNum": 4,
    "hideHardwareSpecs": false,
    "memoryGiB": 244,
    "name": "ml.p3.8xlarge",
    "vcpuNum": 32
   },
   {
    "_defaultOrder": 37,
    "_isFastLaunch": false,
    "category": "Accelerated computing",
    "gpuNum": 8,
    "hideHardwareSpecs": false,
    "memoryGiB": 488,
    "name": "ml.p3.16xlarge",
    "vcpuNum": 64
   },
   {
    "_defaultOrder": 38,
    "_isFastLaunch": false,
    "category": "Accelerated computing",
    "gpuNum": 8,
    "hideHardwareSpecs": false,
    "memoryGiB": 768,
    "name": "ml.p3dn.24xlarge",
    "vcpuNum": 96
   },
   {
    "_defaultOrder": 39,
    "_isFastLaunch": false,
    "category": "Memory Optimized",
    "gpuNum": 0,
    "hideHardwareSpecs": false,
    "memoryGiB": 16,
    "name": "ml.r5.large",
    "vcpuNum": 2
   },
   {
    "_defaultOrder": 40,
    "_isFastLaunch": false,
    "category": "Memory Optimized",
    "gpuNum": 0,
    "hideHardwareSpecs": false,
    "memoryGiB": 32,
    "name": "ml.r5.xlarge",
    "vcpuNum": 4
   },
   {
    "_defaultOrder": 41,
    "_isFastLaunch": false,
    "category": "Memory Optimized",
    "gpuNum": 0,
    "hideHardwareSpecs": false,
    "memoryGiB": 64,
    "name": "ml.r5.2xlarge",
    "vcpuNum": 8
   },
   {
    "_defaultOrder": 42,
    "_isFastLaunch": false,
    "category": "Memory Optimized",
    "gpuNum": 0,
    "hideHardwareSpecs": false,
    "memoryGiB": 128,
    "name": "ml.r5.4xlarge",
    "vcpuNum": 16
   },
   {
    "_defaultOrder": 43,
    "_isFastLaunch": false,
    "category": "Memory Optimized",
    "gpuNum": 0,
    "hideHardwareSpecs": false,
    "memoryGiB": 256,
    "name": "ml.r5.8xlarge",
    "vcpuNum": 32
   },
   {
    "_defaultOrder": 44,
    "_isFastLaunch": false,
    "category": "Memory Optimized",
    "gpuNum": 0,
    "hideHardwareSpecs": false,
    "memoryGiB": 384,
    "name": "ml.r5.12xlarge",
    "vcpuNum": 48
   },
   {
    "_defaultOrder": 45,
    "_isFastLaunch": false,
    "category": "Memory Optimized",
    "gpuNum": 0,
    "hideHardwareSpecs": false,
    "memoryGiB": 512,
    "name": "ml.r5.16xlarge",
    "vcpuNum": 64
   },
   {
    "_defaultOrder": 46,
    "_isFastLaunch": false,
    "category": "Memory Optimized",
    "gpuNum": 0,
    "hideHardwareSpecs": false,
    "memoryGiB": 768,
    "name": "ml.r5.24xlarge",
    "vcpuNum": 96
   },
   {
    "_defaultOrder": 47,
    "_isFastLaunch": false,
    "category": "Accelerated computing",
    "gpuNum": 1,
    "hideHardwareSpecs": false,
    "memoryGiB": 16,
    "name": "ml.g5.xlarge",
    "vcpuNum": 4
   },
   {
    "_defaultOrder": 48,
    "_isFastLaunch": false,
    "category": "Accelerated computing",
    "gpuNum": 1,
    "hideHardwareSpecs": false,
    "memoryGiB": 32,
    "name": "ml.g5.2xlarge",
    "vcpuNum": 8
   },
   {
    "_defaultOrder": 49,
    "_isFastLaunch": false,
    "category": "Accelerated computing",
    "gpuNum": 1,
    "hideHardwareSpecs": false,
    "memoryGiB": 64,
    "name": "ml.g5.4xlarge",
    "vcpuNum": 16
   },
   {
    "_defaultOrder": 50,
    "_isFastLaunch": false,
    "category": "Accelerated computing",
    "gpuNum": 1,
    "hideHardwareSpecs": false,
    "memoryGiB": 128,
    "name": "ml.g5.8xlarge",
    "vcpuNum": 32
   },
   {
    "_defaultOrder": 51,
    "_isFastLaunch": false,
    "category": "Accelerated computing",
    "gpuNum": 1,
    "hideHardwareSpecs": false,
    "memoryGiB": 256,
    "name": "ml.g5.16xlarge",
    "vcpuNum": 64
   },
   {
    "_defaultOrder": 52,
    "_isFastLaunch": false,
    "category": "Accelerated computing",
    "gpuNum": 4,
    "hideHardwareSpecs": false,
    "memoryGiB": 192,
    "name": "ml.g5.12xlarge",
    "vcpuNum": 48
   },
   {
    "_defaultOrder": 53,
    "_isFastLaunch": false,
    "category": "Accelerated computing",
    "gpuNum": 4,
    "hideHardwareSpecs": false,
    "memoryGiB": 384,
    "name": "ml.g5.24xlarge",
    "vcpuNum": 96
   },
   {
    "_defaultOrder": 54,
    "_isFastLaunch": false,
    "category": "Accelerated computing",
    "gpuNum": 8,
    "hideHardwareSpecs": false,
    "memoryGiB": 768,
    "name": "ml.g5.48xlarge",
    "vcpuNum": 192
   },
   {
    "_defaultOrder": 55,
    "_isFastLaunch": false,
    "category": "Accelerated computing",
    "gpuNum": 8,
    "hideHardwareSpecs": false,
    "memoryGiB": 1152,
    "name": "ml.p4d.24xlarge",
    "vcpuNum": 96
   },
   {
    "_defaultOrder": 56,
    "_isFastLaunch": false,
    "category": "Accelerated computing",
    "gpuNum": 8,
    "hideHardwareSpecs": false,
    "memoryGiB": 1152,
    "name": "ml.p4de.24xlarge",
    "vcpuNum": 96
   },
   {
    "_defaultOrder": 57,
    "_isFastLaunch": false,
    "category": "Accelerated computing",
    "gpuNum": 0,
    "hideHardwareSpecs": false,
    "memoryGiB": 32,
    "name": "ml.trn1.2xlarge",
    "vcpuNum": 8
   },
   {
    "_defaultOrder": 58,
    "_isFastLaunch": false,
    "category": "Accelerated computing",
    "gpuNum": 0,
    "hideHardwareSpecs": false,
    "memoryGiB": 512,
    "name": "ml.trn1.32xlarge",
    "vcpuNum": 128
   },
   {
    "_defaultOrder": 59,
    "_isFastLaunch": false,
    "category": "Accelerated computing",
    "gpuNum": 0,
    "hideHardwareSpecs": false,
    "memoryGiB": 512,
    "name": "ml.trn1n.32xlarge",
    "vcpuNum": 128
   }
  ],
  "kernelspec": {
   "display_name": "Python 3 (Data Science 3.0)",
   "language": "python",
   "name": "python3__SAGEMAKER_INTERNAL__arn:aws:sagemaker:us-east-1:081325390199:image/sagemaker-data-science-310-v1"
  },
  "language_info": {
   "codemirror_mode": {
    "name": "ipython",
    "version": 3
   },
   "file_extension": ".py",
   "mimetype": "text/x-python",
   "name": "python",
   "nbconvert_exporter": "python",
   "pygments_lexer": "ipython3",
   "version": "3.10.6"
  }
 },
 "nbformat": 4,
 "nbformat_minor": 5
}
