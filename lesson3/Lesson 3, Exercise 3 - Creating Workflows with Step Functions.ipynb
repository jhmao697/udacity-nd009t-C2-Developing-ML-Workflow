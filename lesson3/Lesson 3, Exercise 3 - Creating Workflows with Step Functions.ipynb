{
 "cells": [
  {
   "cell_type": "markdown",
   "id": "c5dc198f",
   "metadata": {},
   "source": [
    "# UDACITY Designing Your First Workflow - Step Functions"
   ]
  },
  {
   "cell_type": "markdown",
   "id": "a00c09c5",
   "metadata": {},
   "source": [
    "## Step Functions & SageMaker"
   ]
  },
  {
   "cell_type": "markdown",
   "id": "2c2a5b51",
   "metadata": {},
   "source": [
    "In the prior exercises, we've been working with many small services. This can be overwhelming for a data scientist that wants to establish a consistent methodology for handling data. Step Functions is an orchestration service that can allow us to utilize SageMaker in a methodical and consistent way. Step Functions also integrates with Lambda, which can allow us to potentially automate our entire machine learning pipeline end-to-end. Let's get a handle on what a 'step' in a step function looks like.\n",
    "\n",
    "In this exercise, you will create a preprocessing step and a training step. Then you will create a step function to chain the two steps."
   ]
  },
  {
   "cell_type": "markdown",
   "id": "3e5c1c6b",
   "metadata": {},
   "source": [
    "## Exercise: Grant Permissions and install packages."
   ]
  },
  {
   "cell_type": "markdown",
   "id": "1d76a91b",
   "metadata": {},
   "source": [
    "Attach the IAMFullAccess and the StepFunctionsFullAccess polices to your SageMaker execution role."
   ]
  },
  {
   "cell_type": "code",
   "execution_count": 2,
   "id": "981094fe",
   "metadata": {
    "collapsed": true,
    "jupyter": {
     "outputs_hidden": true
    },
    "tags": []
   },
   "outputs": [
    {
     "name": "stdout",
     "output_type": "stream",
     "text": [
      "Collecting stepfunctions\n",
      "  Using cached stepfunctions-2.3.0-py2.py3-none-any.whl\n",
      "Collecting sagemaker>=2.1.0 (from stepfunctions)\n",
      "  Downloading sagemaker-2.203.1-py3-none-any.whl.metadata (13 kB)\n",
      "Requirement already satisfied: boto3>=1.14.38 in /usr/local/lib/python3.8/site-packages (from stepfunctions) (1.34.1)\n",
      "Requirement already satisfied: pyyaml in /usr/local/lib/python3.8/site-packages (from stepfunctions) (6.0.1)\n",
      "Requirement already satisfied: botocore<1.35.0,>=1.34.1 in /usr/local/lib/python3.8/site-packages (from boto3>=1.14.38->stepfunctions) (1.34.1)\n",
      "Requirement already satisfied: jmespath<2.0.0,>=0.7.1 in /usr/local/lib/python3.8/site-packages (from boto3>=1.14.38->stepfunctions) (1.0.1)\n",
      "Requirement already satisfied: s3transfer<0.10.0,>=0.9.0 in /usr/local/lib/python3.8/site-packages (from boto3>=1.14.38->stepfunctions) (0.9.0)\n",
      "Collecting attrs<24,>=23.1.0 (from sagemaker>=2.1.0->stepfunctions)\n",
      "  Downloading attrs-23.2.0-py3-none-any.whl.metadata (9.5 kB)\n",
      "Collecting cloudpickle==2.2.1 (from sagemaker>=2.1.0->stepfunctions)\n",
      "  Downloading cloudpickle-2.2.1-py3-none-any.whl (25 kB)\n",
      "Collecting google-pasta (from sagemaker>=2.1.0->stepfunctions)\n",
      "  Downloading google_pasta-0.2.0-py3-none-any.whl (57 kB)\n",
      "\u001b[2K     \u001b[90m━━━━━━━━━━━━━━━━━━━━━━━━━━━━━━━━━━━━━━━\u001b[0m \u001b[32m57.5/57.5 kB\u001b[0m \u001b[31m806.5 kB/s\u001b[0m eta \u001b[36m0:00:00\u001b[0ma \u001b[36m0:00:01\u001b[0m\n",
      "\u001b[?25hRequirement already satisfied: numpy<2.0,>=1.9.0 in /usr/local/lib/python3.8/site-packages (from sagemaker>=2.1.0->stepfunctions) (1.24.4)\n",
      "Collecting protobuf<5.0,>=3.12 (from sagemaker>=2.1.0->stepfunctions)\n",
      "  Downloading protobuf-4.25.2-cp37-abi3-manylinux2014_x86_64.whl.metadata (541 bytes)\n",
      "Collecting smdebug-rulesconfig==1.0.1 (from sagemaker>=2.1.0->stepfunctions)\n",
      "  Downloading smdebug_rulesconfig-1.0.1-py2.py3-none-any.whl (20 kB)\n",
      "Collecting importlib-metadata<7.0,>=1.4.0 (from sagemaker>=2.1.0->stepfunctions)\n",
      "  Downloading importlib_metadata-6.11.0-py3-none-any.whl.metadata (4.9 kB)\n",
      "Requirement already satisfied: packaging>=20.0 in /usr/local/lib/python3.8/site-packages (from sagemaker>=2.1.0->stepfunctions) (21.3)\n",
      "Collecting pandas (from sagemaker>=2.1.0->stepfunctions)\n",
      "  Downloading pandas-2.0.3-cp38-cp38-manylinux_2_17_x86_64.manylinux2014_x86_64.whl.metadata (18 kB)\n",
      "Collecting pathos (from sagemaker>=2.1.0->stepfunctions)\n",
      "  Downloading pathos-0.3.1-py3-none-any.whl.metadata (11 kB)\n",
      "Collecting schema (from sagemaker>=2.1.0->stepfunctions)\n",
      "  Downloading schema-0.7.5-py2.py3-none-any.whl (17 kB)\n",
      "Collecting jsonschema (from sagemaker>=2.1.0->stepfunctions)\n",
      "  Downloading jsonschema-4.21.1-py3-none-any.whl.metadata (7.8 kB)\n",
      "Requirement already satisfied: platformdirs in /usr/local/lib/python3.8/site-packages (from sagemaker>=2.1.0->stepfunctions) (4.1.0)\n",
      "Collecting tblib<3,>=1.7.0 (from sagemaker>=2.1.0->stepfunctions)\n",
      "  Downloading tblib-2.0.0-py3-none-any.whl.metadata (25 kB)\n",
      "Requirement already satisfied: urllib3<1.27 in /usr/local/lib/python3.8/site-packages (from sagemaker>=2.1.0->stepfunctions) (1.26.18)\n",
      "Collecting uvicorn==0.22.0 (from sagemaker>=2.1.0->stepfunctions)\n",
      "  Downloading uvicorn-0.22.0-py3-none-any.whl (58 kB)\n",
      "\u001b[2K     \u001b[90m━━━━━━━━━━━━━━━━━━━━━━━━━━━━━━━━━━━━━━━\u001b[0m \u001b[32m58.3/58.3 kB\u001b[0m \u001b[31m791.2 kB/s\u001b[0m eta \u001b[36m0:00:00\u001b[0ma \u001b[36m0:00:01\u001b[0m\n",
      "\u001b[?25hCollecting fastapi==0.95.2 (from sagemaker>=2.1.0->stepfunctions)\n",
      "  Downloading fastapi-0.95.2-py3-none-any.whl.metadata (24 kB)\n",
      "Requirement already satisfied: requests in /usr/local/lib/python3.8/site-packages (from sagemaker>=2.1.0->stepfunctions) (2.31.0)\n",
      "Collecting docker (from sagemaker>=2.1.0->stepfunctions)\n",
      "  Downloading docker-7.0.0-py3-none-any.whl.metadata (3.5 kB)\n",
      "Collecting tqdm (from sagemaker>=2.1.0->stepfunctions)\n",
      "  Downloading tqdm-4.66.1-py3-none-any.whl.metadata (57 kB)\n",
      "\u001b[2K     \u001b[90m━━━━━━━━━━━━━━━━━━━━━━━━━━━━━━━━━━━━━━━\u001b[0m \u001b[32m57.6/57.6 kB\u001b[0m \u001b[31m794.0 kB/s\u001b[0m eta \u001b[36m0:00:00\u001b[0ma \u001b[36m0:00:01\u001b[0m\n",
      "\u001b[?25hRequirement already satisfied: psutil in /usr/local/lib/python3.8/site-packages (from sagemaker>=2.1.0->stepfunctions) (5.9.6)\n",
      "Collecting pydantic!=1.7,!=1.7.1,!=1.7.2,!=1.7.3,!=1.8,!=1.8.1,<2.0.0,>=1.6.2 (from fastapi==0.95.2->sagemaker>=2.1.0->stepfunctions)\n",
      "  Downloading pydantic-1.10.14-cp38-cp38-manylinux_2_17_x86_64.manylinux2014_x86_64.whl.metadata (150 kB)\n",
      "\u001b[2K     \u001b[90m━━━━━━━━━━━━━━━━━━━━━━━━━━━━━━━━━━━━━━━\u001b[0m \u001b[32m150.2/150.2 kB\u001b[0m \u001b[31m1.7 MB/s\u001b[0m eta \u001b[36m0:00:00\u001b[0ma \u001b[36m0:00:01\u001b[0m\n",
      "\u001b[?25hCollecting starlette<0.28.0,>=0.27.0 (from fastapi==0.95.2->sagemaker>=2.1.0->stepfunctions)\n",
      "  Downloading starlette-0.27.0-py3-none-any.whl.metadata (5.8 kB)\n",
      "Requirement already satisfied: click>=7.0 in /usr/local/lib/python3.8/site-packages (from uvicorn==0.22.0->sagemaker>=2.1.0->stepfunctions) (8.1.7)\n",
      "Collecting h11>=0.8 (from uvicorn==0.22.0->sagemaker>=2.1.0->stepfunctions)\n",
      "  Downloading h11-0.14.0-py3-none-any.whl (58 kB)\n",
      "\u001b[2K     \u001b[90m━━━━━━━━━━━━━━━━━━━━━━━━━━━━━━━━━━━━━━━\u001b[0m \u001b[32m58.3/58.3 kB\u001b[0m \u001b[31m933.1 kB/s\u001b[0m eta \u001b[36m0:00:00\u001b[0ma \u001b[36m0:00:01\u001b[0m\n",
      "\u001b[?25hRequirement already satisfied: python-dateutil<3.0.0,>=2.1 in /usr/local/lib/python3.8/site-packages (from botocore<1.35.0,>=1.34.1->boto3>=1.14.38->stepfunctions) (2.8.2)\n",
      "Requirement already satisfied: zipp>=0.5 in /usr/local/lib/python3.8/site-packages (from importlib-metadata<7.0,>=1.4.0->sagemaker>=2.1.0->stepfunctions) (3.17.0)\n",
      "Requirement already satisfied: pyparsing!=3.0.5,>=2.0.2 in /usr/local/lib/python3.8/site-packages (from packaging>=20.0->sagemaker>=2.1.0->stepfunctions) (3.1.1)\n",
      "Requirement already satisfied: charset-normalizer<4,>=2 in /usr/local/lib/python3.8/site-packages (from requests->sagemaker>=2.1.0->stepfunctions) (3.3.2)\n",
      "Requirement already satisfied: idna<4,>=2.5 in /usr/local/lib/python3.8/site-packages (from requests->sagemaker>=2.1.0->stepfunctions) (3.6)\n",
      "Requirement already satisfied: certifi>=2017.4.17 in /usr/local/lib/python3.8/site-packages (from requests->sagemaker>=2.1.0->stepfunctions) (2023.11.17)\n",
      "Requirement already satisfied: six in /usr/local/lib/python3.8/site-packages (from google-pasta->sagemaker>=2.1.0->stepfunctions) (1.16.0)\n",
      "Collecting importlib-resources>=1.4.0 (from jsonschema->sagemaker>=2.1.0->stepfunctions)\n",
      "  Downloading importlib_resources-6.1.1-py3-none-any.whl.metadata (4.1 kB)\n",
      "Collecting jsonschema-specifications>=2023.03.6 (from jsonschema->sagemaker>=2.1.0->stepfunctions)\n",
      "  Downloading jsonschema_specifications-2023.12.1-py3-none-any.whl.metadata (3.0 kB)\n",
      "Collecting pkgutil-resolve-name>=1.3.10 (from jsonschema->sagemaker>=2.1.0->stepfunctions)\n",
      "  Downloading pkgutil_resolve_name-1.3.10-py3-none-any.whl (4.7 kB)\n",
      "Collecting referencing>=0.28.4 (from jsonschema->sagemaker>=2.1.0->stepfunctions)\n",
      "  Downloading referencing-0.32.1-py3-none-any.whl.metadata (2.7 kB)\n",
      "Collecting rpds-py>=0.7.1 (from jsonschema->sagemaker>=2.1.0->stepfunctions)\n",
      "  Downloading rpds_py-0.17.1-cp38-cp38-manylinux_2_17_x86_64.manylinux2014_x86_64.whl.metadata (4.1 kB)\n",
      "Collecting pytz>=2020.1 (from pandas->sagemaker>=2.1.0->stepfunctions)\n",
      "  Downloading pytz-2023.3.post1-py2.py3-none-any.whl.metadata (22 kB)\n",
      "Collecting tzdata>=2022.1 (from pandas->sagemaker>=2.1.0->stepfunctions)\n",
      "  Downloading tzdata-2023.4-py2.py3-none-any.whl.metadata (1.4 kB)\n",
      "Collecting ppft>=1.7.6.7 (from pathos->sagemaker>=2.1.0->stepfunctions)\n",
      "  Downloading ppft-1.7.6.7-py3-none-any.whl.metadata (12 kB)\n",
      "Collecting dill>=0.3.7 (from pathos->sagemaker>=2.1.0->stepfunctions)\n",
      "  Downloading dill-0.3.7-py3-none-any.whl.metadata (9.9 kB)\n",
      "Collecting pox>=0.3.3 (from pathos->sagemaker>=2.1.0->stepfunctions)\n",
      "  Downloading pox-0.3.3-py3-none-any.whl.metadata (8.0 kB)\n",
      "Collecting multiprocess>=0.70.15 (from pathos->sagemaker>=2.1.0->stepfunctions)\n",
      "  Downloading multiprocess-0.70.15-py38-none-any.whl.metadata (7.1 kB)\n",
      "Collecting contextlib2>=0.5.5 (from schema->sagemaker>=2.1.0->stepfunctions)\n",
      "  Downloading contextlib2-21.6.0-py2.py3-none-any.whl (13 kB)\n",
      "Requirement already satisfied: typing-extensions>=4.2.0 in /usr/local/lib/python3.8/site-packages (from pydantic!=1.7,!=1.7.1,!=1.7.2,!=1.7.3,!=1.8,!=1.8.1,<2.0.0,>=1.6.2->fastapi==0.95.2->sagemaker>=2.1.0->stepfunctions) (4.9.0)\n",
      "Collecting anyio<5,>=3.4.0 (from starlette<0.28.0,>=0.27.0->fastapi==0.95.2->sagemaker>=2.1.0->stepfunctions)\n",
      "  Downloading anyio-4.2.0-py3-none-any.whl.metadata (4.6 kB)\n",
      "Collecting sniffio>=1.1 (from anyio<5,>=3.4.0->starlette<0.28.0,>=0.27.0->fastapi==0.95.2->sagemaker>=2.1.0->stepfunctions)\n",
      "  Downloading sniffio-1.3.0-py3-none-any.whl (10 kB)\n",
      "Collecting exceptiongroup>=1.0.2 (from anyio<5,>=3.4.0->starlette<0.28.0,>=0.27.0->fastapi==0.95.2->sagemaker>=2.1.0->stepfunctions)\n",
      "  Downloading exceptiongroup-1.2.0-py3-none-any.whl.metadata (6.6 kB)\n",
      "Downloading sagemaker-2.203.1-py3-none-any.whl (1.4 MB)\n",
      "\u001b[2K   \u001b[90m━━━━━━━━━━━━━━━━━━━━━━━━━━━━━━━━━━━━━━━━\u001b[0m \u001b[32m1.4/1.4 MB\u001b[0m \u001b[31m8.1 MB/s\u001b[0m eta \u001b[36m0:00:00\u001b[0m:00:01\u001b[0m\n",
      "\u001b[?25hDownloading fastapi-0.95.2-py3-none-any.whl (56 kB)\n",
      "\u001b[2K   \u001b[90m━━━━━━━━━━━━━━━━━━━━━━━━━━━━━━━━━━━━━━━━\u001b[0m \u001b[32m57.0/57.0 kB\u001b[0m \u001b[31m1.1 MB/s\u001b[0m eta \u001b[36m0:00:00\u001b[0meta \u001b[36m0:00:01\u001b[0m\n",
      "\u001b[?25hDownloading attrs-23.2.0-py3-none-any.whl (60 kB)\n",
      "\u001b[2K   \u001b[90m━━━━━━━━━━━━━━━━━━━━━━━━━━━━━━━━━━━━━━━━\u001b[0m \u001b[32m60.8/60.8 kB\u001b[0m \u001b[31m922.0 kB/s\u001b[0m eta \u001b[36m0:00:00\u001b[0ma \u001b[36m0:00:01\u001b[0m\n",
      "\u001b[?25hDownloading importlib_metadata-6.11.0-py3-none-any.whl (23 kB)\n",
      "Downloading protobuf-4.25.2-cp37-abi3-manylinux2014_x86_64.whl (294 kB)\n",
      "\u001b[2K   \u001b[90m━━━━━━━━━━━━━━━━━━━━━━━━━━━━━━━━━━━━━━━━\u001b[0m \u001b[32m294.6/294.6 kB\u001b[0m \u001b[31m3.0 MB/s\u001b[0m eta \u001b[36m0:00:00\u001b[0mta \u001b[36m0:00:01\u001b[0m\n",
      "\u001b[?25hDownloading tblib-2.0.0-py3-none-any.whl (11 kB)\n",
      "Downloading docker-7.0.0-py3-none-any.whl (147 kB)\n",
      "\u001b[2K   \u001b[90m━━━━━━━━━━━━━━━━━━━━━━━━━━━━━━━━━━━━━━━━\u001b[0m \u001b[32m147.6/147.6 kB\u001b[0m \u001b[31m1.8 MB/s\u001b[0m eta \u001b[36m0:00:00\u001b[0mta \u001b[36m0:00:01\u001b[0m\n",
      "\u001b[?25hDownloading jsonschema-4.21.1-py3-none-any.whl (85 kB)\n",
      "\u001b[2K   \u001b[90m━━━━━━━━━━━━━━━━━━━━━━━━━━━━━━━━━━━━━━━━\u001b[0m \u001b[32m85.5/85.5 kB\u001b[0m \u001b[31m877.6 kB/s\u001b[0m eta \u001b[36m0:00:00\u001b[0ma \u001b[36m0:00:01\u001b[0m\n",
      "\u001b[?25hDownloading pandas-2.0.3-cp38-cp38-manylinux_2_17_x86_64.manylinux2014_x86_64.whl (12.4 MB)\n",
      "\u001b[2K   \u001b[90m━━━━━━━━━━━━━━━━━━━━━━━━━━━━━━━━━━━━━━━━\u001b[0m \u001b[32m12.4/12.4 MB\u001b[0m \u001b[31m29.4 MB/s\u001b[0m eta \u001b[36m0:00:00\u001b[0m00:01\u001b[0m00:01\u001b[0m\n",
      "\u001b[?25hDownloading pathos-0.3.1-py3-none-any.whl (82 kB)\n",
      "\u001b[2K   \u001b[90m━━━━━━━━━━━━━━━━━━━━━━━━━━━━━━━━━━━━━━━━\u001b[0m \u001b[32m82.1/82.1 kB\u001b[0m \u001b[31m925.2 kB/s\u001b[0m eta \u001b[36m0:00:00\u001b[0m00:01\u001b[0m\n",
      "\u001b[?25hDownloading tqdm-4.66.1-py3-none-any.whl (78 kB)\n",
      "\u001b[2K   \u001b[90m━━━━━━━━━━━━━━━━━━━━━━━━━━━━━━━━━━━━━━━━\u001b[0m \u001b[32m78.3/78.3 kB\u001b[0m \u001b[31m832.6 kB/s\u001b[0m eta \u001b[36m0:00:00\u001b[0m \u001b[36m0:00:01\u001b[0m\n",
      "\u001b[?25hDownloading dill-0.3.7-py3-none-any.whl (115 kB)\n",
      "\u001b[2K   \u001b[90m━━━━━━━━━━━━━━━━━━━━━━━━━━━━━━━━━━━━━━━━\u001b[0m \u001b[32m115.3/115.3 kB\u001b[0m \u001b[31m1.6 MB/s\u001b[0m eta \u001b[36m0:00:00\u001b[0m:00:01\u001b[0m\n",
      "\u001b[?25hDownloading importlib_resources-6.1.1-py3-none-any.whl (33 kB)\n",
      "Downloading jsonschema_specifications-2023.12.1-py3-none-any.whl (18 kB)\n",
      "Downloading multiprocess-0.70.15-py38-none-any.whl (132 kB)\n",
      "\u001b[2K   \u001b[90m━━━━━━━━━━━━━━━━━━━━━━━━━━━━━━━━━━━━━━━━\u001b[0m \u001b[32m132.6/132.6 kB\u001b[0m \u001b[31m1.5 MB/s\u001b[0m eta \u001b[36m0:00:00\u001b[0mta \u001b[36m0:00:01\u001b[0m\n",
      "\u001b[?25hDownloading pox-0.3.3-py3-none-any.whl (29 kB)\n",
      "Downloading ppft-1.7.6.7-py3-none-any.whl (56 kB)\n",
      "\u001b[2K   \u001b[90m━━━━━━━━━━━━━━━━━━━━━━━━━━━━━━━━━━━━━━━━\u001b[0m \u001b[32m56.8/56.8 kB\u001b[0m \u001b[31m734.2 kB/s\u001b[0m eta \u001b[36m0:00:00\u001b[0m \u001b[36m0:00:01\u001b[0m\n",
      "\u001b[?25hDownloading pydantic-1.10.14-cp38-cp38-manylinux_2_17_x86_64.manylinux2014_x86_64.whl (3.2 MB)\n",
      "\u001b[2K   \u001b[90m━━━━━━━━━━━━━━━━━━━━━━━━━━━━━━━━━━━━━━━━\u001b[0m \u001b[32m3.2/3.2 MB\u001b[0m \u001b[31m19.6 MB/s\u001b[0m eta \u001b[36m0:00:00\u001b[0m:00:01\u001b[0m\n",
      "\u001b[?25hDownloading pytz-2023.3.post1-py2.py3-none-any.whl (502 kB)\n",
      "\u001b[2K   \u001b[90m━━━━━━━━━━━━━━━━━━━━━━━━━━━━━━━━━━━━━━━━\u001b[0m \u001b[32m502.5/502.5 kB\u001b[0m \u001b[31m5.8 MB/s\u001b[0m eta \u001b[36m0:00:00\u001b[0m:00:01\u001b[0m\n",
      "\u001b[?25hDownloading referencing-0.32.1-py3-none-any.whl (26 kB)\n",
      "Downloading rpds_py-0.17.1-cp38-cp38-manylinux_2_17_x86_64.manylinux2014_x86_64.whl (1.2 MB)\n",
      "\u001b[2K   \u001b[90m━━━━━━━━━━━━━━━━━━━━━━━━━━━━━━━━━━━━━━━━\u001b[0m \u001b[32m1.2/1.2 MB\u001b[0m \u001b[31m9.5 MB/s\u001b[0m eta \u001b[36m0:00:00\u001b[0m0:00:01\u001b[0m\n",
      "\u001b[?25hDownloading starlette-0.27.0-py3-none-any.whl (66 kB)\n",
      "\u001b[2K   \u001b[90m━━━━━━━━━━━━━━━━━━━━━━━━━━━━━━━━━━━━━━━━\u001b[0m \u001b[32m67.0/67.0 kB\u001b[0m \u001b[31m889.6 kB/s\u001b[0m eta \u001b[36m0:00:00\u001b[0ma \u001b[36m0:00:01\u001b[0m\n",
      "\u001b[?25hDownloading tzdata-2023.4-py2.py3-none-any.whl (346 kB)\n",
      "\u001b[2K   \u001b[90m━━━━━━━━━━━━━━━━━━━━━━━━━━━━━━━━━━━━━━━━\u001b[0m \u001b[32m346.6/346.6 kB\u001b[0m \u001b[31m4.3 MB/s\u001b[0m eta \u001b[36m0:00:00\u001b[0m:00:01\u001b[0m\n",
      "\u001b[?25hDownloading anyio-4.2.0-py3-none-any.whl (85 kB)\n",
      "\u001b[2K   \u001b[90m━━━━━━━━━━━━━━━━━━━━━━━━━━━━━━━━━━━━━━━━\u001b[0m \u001b[32m85.5/85.5 kB\u001b[0m \u001b[31m1.2 MB/s\u001b[0m eta \u001b[36m0:00:00\u001b[0meta \u001b[36m0:00:01\u001b[0m\n",
      "\u001b[?25hDownloading exceptiongroup-1.2.0-py3-none-any.whl (16 kB)\n",
      "Installing collected packages: pytz, tzdata, tqdm, tblib, sniffio, smdebug-rulesconfig, rpds-py, pydantic, protobuf, ppft, pox, pkgutil-resolve-name, importlib-resources, importlib-metadata, h11, google-pasta, exceptiongroup, dill, contextlib2, cloudpickle, attrs, uvicorn, schema, referencing, pandas, multiprocess, docker, anyio, starlette, pathos, jsonschema-specifications, jsonschema, fastapi, sagemaker, stepfunctions\n",
      "  Attempting uninstall: importlib-metadata\n",
      "    Found existing installation: importlib-metadata 7.0.0\n",
      "    Uninstalling importlib-metadata-7.0.0:\n",
      "      Successfully uninstalled importlib-metadata-7.0.0\n",
      "Successfully installed anyio-4.2.0 attrs-23.2.0 cloudpickle-2.2.1 contextlib2-21.6.0 dill-0.3.7 docker-7.0.0 exceptiongroup-1.2.0 fastapi-0.95.2 google-pasta-0.2.0 h11-0.14.0 importlib-metadata-6.11.0 importlib-resources-6.1.1 jsonschema-4.21.1 jsonschema-specifications-2023.12.1 multiprocess-0.70.15 pandas-2.0.3 pathos-0.3.1 pkgutil-resolve-name-1.3.10 pox-0.3.3 ppft-1.7.6.7 protobuf-4.25.2 pydantic-1.10.14 pytz-2023.3.post1 referencing-0.32.1 rpds-py-0.17.1 sagemaker-2.203.1 schema-0.7.5 smdebug-rulesconfig-1.0.1 sniffio-1.3.0 starlette-0.27.0 stepfunctions-2.3.0 tblib-2.0.0 tqdm-4.66.1 tzdata-2023.4 uvicorn-0.22.0\n"
     ]
    },
    {
     "name": "stderr",
     "output_type": "stream",
     "text": [
      "\u001b[33mWARNING: Running pip as the 'root' user can result in broken permissions and conflicting behaviour with the system package manager. It is recommended to use a virtual environment instead: https://pip.pypa.io/warnings/venv\u001b[0m\u001b[33m\n",
      "\u001b[0m\n",
      "\u001b[1m[\u001b[0m\u001b[34;49mnotice\u001b[0m\u001b[1;39;49m]\u001b[0m\u001b[39;49m A new release of pip is available: \u001b[0m\u001b[31;49m23.3.1\u001b[0m\u001b[39;49m -> \u001b[0m\u001b[32;49m23.3.2\u001b[0m\n",
      "\u001b[1m[\u001b[0m\u001b[34;49mnotice\u001b[0m\u001b[1;39;49m]\u001b[0m\u001b[39;49m To update, run: \u001b[0m\u001b[32;49mpip install --upgrade pip\u001b[0m\n"
     ]
    }
   ],
   "source": [
    "#  Base Python 2.0 Python 3 ml.t3/medium 2 vCPU + 4 GiB\n",
    "%%bash\n",
    "pip install stepfunctions"
   ]
  },
  {
   "cell_type": "markdown",
   "id": "2980c12c",
   "metadata": {},
   "source": [
    "## Exercise: Fill out preprocessing step."
   ]
  },
  {
   "cell_type": "markdown",
   "id": "752d3b79",
   "metadata": {},
   "source": [
    "The 'step' interface is designed to be quite similar to the Preprocessing Job in lesson 2. The main difference between these is the ability of a 'step' to interface with other steps. Given the successful outcome of a single step, the next step specified in a workflow will automatically continue. In our case, a training step will launch given the successful outcome of a preprocessing step. The preprocessing step has been encoded for you. Upload the preprocessing code 'HelloBlazePreprocess.py' and the zipped dataset 'reviews_Musical_Instruments_5.json.zip' to s3, and fill out the constants in the code below. "
   ]
  },
  {
   "cell_type": "markdown",
   "id": "0df2f1ac",
   "metadata": {},
   "source": [
    "Code below is the preprocessing step. Fill in the constants in the code."
   ]
  },
  {
   "cell_type": "code",
   "execution_count": 3,
   "id": "9d82815d",
   "metadata": {},
   "outputs": [
    {
     "name": "stdout",
     "output_type": "stream",
     "text": [
      "sagemaker.config INFO - Not applying SDK defaults from location: /etc/xdg/sagemaker/config.yaml\n",
      "sagemaker.config INFO - Not applying SDK defaults from location: /root/.config/sagemaker/config.yaml\n"
     ]
    }
   ],
   "source": [
    "from sagemaker import get_execution_role\n",
    "from sagemaker.sklearn.processing import SKLearnProcessor\n",
    "from sagemaker.processing import ProcessingInput, ProcessingOutput\n",
    "from stepfunctions.steps.sagemaker import ProcessingStep\n",
    "import sagemaker\n",
    "\n",
    "role = get_execution_role()\n",
    "\n",
    "PREPROCESSING_JOB_NAME = \"ex3-creating-workflow-w-stepfunc\"\n",
    "input_data = 's3://sagemaker-us-east-1-759895829784/ex3-workflow-stepfunc/reviews_Musical_Instruments_5.json.zip'\n",
    "input_preprocessing_code = 's3://sagemaker-us-east-1-759895829784/ex3-workflow-stepfunc/HelloBlazePreprocess.py'\n",
    "sess = sagemaker.Session()\n",
    "\n",
    "sklearn_processor = SKLearnProcessor(framework_version='0.20.0',\n",
    "                                     role=role,\n",
    "                                     instance_type='ml.m5.large',\n",
    "                                     instance_count=1)\n",
    "\n",
    "\n",
    "processed_data_train = \"{}{}/{}\".format(\"s3://\", sess.default_bucket(), 'hello_blaze_train_scikit')\n",
    "processed_data_test = \"{}{}/{}\".format(\"s3://\", sess.default_bucket(), 'hello_blaze_test_scikit')\n",
    "\n",
    "inputs=[ProcessingInput(source=input_data, destination='/opt/ml/processing/input', input_name = 'input-1'),  ProcessingInput(source=input_preprocessing_code , destination='/opt/ml/processing/input/code', input_name = 'code')]\n",
    "\n",
    "\n",
    "outputs=[ProcessingOutput(source='/opt/ml/processing/output/train', destination=processed_data_train, output_name = 'train_data'), ProcessingOutput(source='/opt/ml/processing/output/test', destination=processed_data_test, output_name = 'test_data')]\n",
    "\n",
    "\n",
    "processing_step = ProcessingStep(\n",
    "    \"SageMaker pre-processing step 4\",\n",
    "    processor=sklearn_processor,\n",
    "    job_name=PREPROCESSING_JOB_NAME,\n",
    "    inputs=inputs,\n",
    "    outputs=outputs,\n",
    "    container_entrypoint=[\"python3\", \"/opt/ml/processing/input/code/HelloBlazePreprocess.py\"],\n",
    ")\n"
   ]
  },
  {
   "cell_type": "markdown",
   "id": "5048e4f3",
   "metadata": {},
   "source": [
    "## Exercise: Fill out Training Step"
   ]
  },
  {
   "cell_type": "markdown",
   "id": "a904f213",
   "metadata": {},
   "source": [
    "Upon the success of the preprocessing step, we wish to execute a training step. A training step is defined below. Fill the constants in the code."
   ]
  },
  {
   "cell_type": "code",
   "execution_count": 5,
   "id": "a7b7118c",
   "metadata": {},
   "outputs": [],
   "source": [
    "from stepfunctions.steps.sagemaker import TrainingStep\n",
    "import boto3\n",
    "\n",
    "WORKFLOW_OUTPUT = \"s3://sagemaker-us-east-1-759895829784/ex3-workflow-stepfunc/\"\n",
    "TRAINING_JOB_NAME = \"trainng-step\"\n",
    "\n",
    "region_name = boto3.Session().region_name\n",
    "container = sagemaker.image_uris.retrieve(\n",
    "    region=region_name, framework=\"blazingtext\", version=\"latest\"\n",
    ")\n",
    "\n",
    "helloBlazeEstimator = sagemaker.estimator.Estimator(\n",
    "    container,\n",
    "    role=role,\n",
    "    instance_count=1,\n",
    "    instance_type='ml.m5.large',\n",
    "    volume_size=30,\n",
    "    max_run=360000,\n",
    "    input_mode=\"File\",\n",
    "    output_path=WORKFLOW_OUTPUT,\n",
    "    sagemaker_session=sess,\n",
    ")\n",
    "\n",
    "helloBlazeEstimator.set_hyperparameters(mode='supervised')\n",
    "\n",
    "training_step = TrainingStep(\n",
    "    \"SageMaker Training Step\",\n",
    "    estimator=helloBlazeEstimator,\n",
    "    data={\"train\": sagemaker.TrainingInput(processed_data_train, content_type=\"text/plain\"), \"validation\": sagemaker.TrainingInput(processed_data_test, content_type=\"text/plain\")},\n",
    "    job_name=TRAINING_JOB_NAME,\n",
    "    wait_for_completion=True,\n",
    ")"
   ]
  },
  {
   "cell_type": "markdown",
   "id": "672f280c",
   "metadata": {},
   "source": [
    "## Exercise: Create Workflow & Execute It. "
   ]
  },
  {
   "cell_type": "code",
   "execution_count": 38,
   "id": "1131e9c3-0dd2-46f9-a64f-9077fe10c9f4",
   "metadata": {},
   "outputs": [
    {
     "name": "stdout",
     "output_type": "stream",
     "text": [
      "1706035312.0171494 35312\n"
     ]
    }
   ],
   "source": [
    "import time\n",
    "\n",
    "t=str(time.time())\n",
    "print(t,t.split('.')[0][-5:])"
   ]
  },
  {
   "cell_type": "markdown",
   "id": "4c549f3b",
   "metadata": {},
   "source": [
    "To link the steps, you'll need to create a role that is capable of doing so. Go to IAM and create a Step Functions role, and attach the CloudWatchEventsFullAccess and SageMakerFullAccess policies. Once done, make use of the above steps to create a workflow. Quick debugging tip: jobs must have a unique name; you'll need to rename job names when debugging. Consider creating a method that will dynamically create unique job names! "
   ]
  },
  {
   "cell_type": "code",
   "execution_count": 39,
   "id": "c4c39201",
   "metadata": {},
   "outputs": [],
   "source": [
    "from stepfunctions.steps import Chain\n",
    "from stepfunctions.workflow import Workflow\n",
    "import time\n",
    "\n",
    "t=str(time.time())\n",
    "surfix = t.split('.')[0][-5:]\n",
    "workflow_role = \"arn:aws:iam::759895829784:role/step-function-role\"\n",
    "\n",
    "workflow_graph = Chain([processing_step, training_step])\n",
    "workflow = Workflow(\n",
    "    name=f\"process-training-{surfix}\",\n",
    "    definition=workflow_graph,\n",
    "    role=workflow_role,\n",
    ")\n",
    "\n",
    "workflow.create()\n",
    "\n",
    "execution = workflow.execute(\n",
    "    inputs={\n",
    "        \"PreprocessingJobName\": PREPROCESSING_JOB_NAME,  # Each pre processing job (SageMaker processing job) requires a unique name,\n",
    "        \"TrainingJobName\": TRAINING_JOB_NAME  # Each Sagemaker Training job requires a unique name,       \n",
    "    }\n",
    ")\n",
    "\n",
    "execution_output = execution.get_output(wait=True)"
   ]
  },
  {
   "cell_type": "markdown",
   "id": "d49a3122",
   "metadata": {},
   "source": [
    "You can track the outcome of this workflow through a custom UI that gets generated! Check it out!"
   ]
  },
  {
   "cell_type": "code",
   "execution_count": 40,
   "id": "c81e08b9",
   "metadata": {},
   "outputs": [
    {
     "data": {
      "text/html": [
       "\n",
       "<link rel=\"stylesheet\" type=\"text/css\" href=\"https://do0of8uwbahzz.cloudfront.net/graph.css\">\n",
       "<div id=\"graph-326\" class=\"workflowgraph\">\n",
       "    \n",
       "    <style>\n",
       "        .graph-legend ul {\n",
       "            list-style-type: none;\n",
       "            padding: 10px;\n",
       "            padding-left: 0;\n",
       "            margin: 0;\n",
       "            position: absolute;\n",
       "            top: 0;\n",
       "            background: transparent;\n",
       "        }\n",
       "\n",
       "        .graph-legend li {\n",
       "            margin-left: 10px;\n",
       "            display: inline-block;\n",
       "        }\n",
       "\n",
       "        .graph-legend li > div {\n",
       "            width: 10px;\n",
       "            height: 10px;\n",
       "            display: inline-block;\n",
       "        }\n",
       "\n",
       "        .graph-legend .success { background-color: #2BD62E }\n",
       "        .graph-legend .failed { background-color: #DE322F }\n",
       "        .graph-legend .cancelled { background-color: #DDDDDD }\n",
       "        .graph-legend .in-progress { background-color: #53C9ED }\n",
       "        .graph-legend .caught-error { background-color: #FFA500 }\n",
       "    </style>\n",
       "    <div class=\"graph-legend\">\n",
       "        <ul>\n",
       "            <li>\n",
       "                <div class=\"success\"></div>\n",
       "                <span>Success</span>\n",
       "            </li>\n",
       "            <li>\n",
       "                <div class=\"failed\"></div>\n",
       "                <span>Failed</span>\n",
       "            </li>\n",
       "            <li>\n",
       "                <div class=\"cancelled\"></div>\n",
       "                <span>Cancelled</span>\n",
       "            </li>\n",
       "            <li>\n",
       "                <div class=\"in-progress\"></div>\n",
       "                <span>In Progress</span>\n",
       "            </li>\n",
       "            <li>\n",
       "                <div class=\"caught-error\"></div>\n",
       "                <span>Caught Error</span>\n",
       "            </li>\n",
       "        </ul>\n",
       "    </div>\n",
       "\n",
       "    <svg></svg>\n",
       "    <a href=\"https://console.aws.amazon.com/states/home?region=us-east-1#/executions/details/arn:aws:states:us-east-1:759895829784:execution:process-training-35377:ad4e9415-6000-44be-b341-695c9bc77a05\" target=\"_blank\"> Inspect in AWS Step Functions </a>\n",
       "</div>\n",
       "\n",
       "<script type=\"text/javascript\">\n",
       "\n",
       "require.config({\n",
       "    paths: {\n",
       "        sfn: \"https://do0of8uwbahzz.cloudfront.net/sfn\",\n",
       "    }\n",
       "});\n",
       "\n",
       "require(['sfn'], function(sfn) {\n",
       "    var element = document.getElementById('graph-326')\n",
       "\n",
       "    var options = {\n",
       "        width: parseFloat(getComputedStyle(element, null).width.replace(\"px\", \"\")),\n",
       "        height: 1000,\n",
       "        layout: 'LR',\n",
       "        resizeHeight: true\n",
       "    };\n",
       "\n",
       "    var definition = {\"StartAt\": \"SageMaker pre-processing step 4\", \"States\": {\"SageMaker pre-processing step 4\": {\"Resource\": \"arn:aws:states:::sagemaker:createProcessingJob.sync\", \"Parameters\": {\"ProcessingJobName\": \"ex3-creating-workflow-w-stepfunc\", \"ProcessingInputs\": [{\"InputName\": \"input-1\", \"AppManaged\": false, \"S3Input\": {\"S3Uri\": \"s3://sagemaker-us-east-1-759895829784/ex3-workflow-stepfunc/reviews_Musical_Instruments_5.json.zip\", \"LocalPath\": \"/opt/ml/processing/input\", \"S3DataType\": \"S3Prefix\", \"S3InputMode\": \"File\", \"S3DataDistributionType\": \"FullyReplicated\", \"S3CompressionType\": \"None\"}}, {\"InputName\": \"code\", \"AppManaged\": false, \"S3Input\": {\"S3Uri\": \"s3://sagemaker-us-east-1-759895829784/ex3-workflow-stepfunc/HelloBlazePreprocess.py\", \"LocalPath\": \"/opt/ml/processing/input/code\", \"S3DataType\": \"S3Prefix\", \"S3InputMode\": \"File\", \"S3DataDistributionType\": \"FullyReplicated\", \"S3CompressionType\": \"None\"}}], \"ProcessingOutputConfig\": {\"Outputs\": [{\"OutputName\": \"train_data\", \"AppManaged\": false, \"S3Output\": {\"S3Uri\": \"s3://sagemaker-us-east-1-759895829784/hello_blaze_train_scikit\", \"LocalPath\": \"/opt/ml/processing/output/train\", \"S3UploadMode\": \"EndOfJob\"}}, {\"OutputName\": \"test_data\", \"AppManaged\": false, \"S3Output\": {\"S3Uri\": \"s3://sagemaker-us-east-1-759895829784/hello_blaze_test_scikit\", \"LocalPath\": \"/opt/ml/processing/output/test\", \"S3UploadMode\": \"EndOfJob\"}}]}, \"AppSpecification\": {\"ImageUri\": \"683313688378.dkr.ecr.us-east-1.amazonaws.com/sagemaker-scikit-learn:0.20.0-cpu-py3\", \"ContainerEntrypoint\": [\"python3\", \"/opt/ml/processing/input/code/HelloBlazePreprocess.py\"]}, \"RoleArn\": \"arn:aws:iam::759895829784:role/service-role/AmazonSageMaker-ExecutionRole-20240119T140378\", \"ProcessingResources\": {\"ClusterConfig\": {\"InstanceCount\": 1, \"InstanceType\": \"ml.m5.large\", \"VolumeSizeInGB\": 30}}}, \"Type\": \"Task\", \"Next\": \"SageMaker Training Step\"}, \"SageMaker Training Step\": {\"Resource\": \"arn:aws:states:::sagemaker:createTrainingJob.sync\", \"Parameters\": {\"AlgorithmSpecification\": {\"TrainingImage\": \"811284229777.dkr.ecr.us-east-1.amazonaws.com/blazingtext:1\", \"TrainingInputMode\": \"File\"}, \"OutputDataConfig\": {\"S3OutputPath\": \"s3://sagemaker-us-east-1-759895829784/ex3-workflow-stepfunc/\"}, \"StoppingCondition\": {\"MaxRuntimeInSeconds\": 360000}, \"ResourceConfig\": {\"VolumeSizeInGB\": 30, \"InstanceCount\": 1, \"InstanceType\": \"ml.m5.large\"}, \"RoleArn\": \"arn:aws:iam::759895829784:role/service-role/AmazonSageMaker-ExecutionRole-20240119T140378\", \"InputDataConfig\": [{\"DataSource\": {\"S3DataSource\": {\"S3DataType\": \"S3Prefix\", \"S3Uri\": \"s3://sagemaker-us-east-1-759895829784/hello_blaze_train_scikit\", \"S3DataDistributionType\": \"FullyReplicated\"}}, \"ContentType\": \"text/plain\", \"ChannelName\": \"train\"}, {\"DataSource\": {\"S3DataSource\": {\"S3DataType\": \"S3Prefix\", \"S3Uri\": \"s3://sagemaker-us-east-1-759895829784/hello_blaze_test_scikit\", \"S3DataDistributionType\": \"FullyReplicated\"}}, \"ContentType\": \"text/plain\", \"ChannelName\": \"validation\"}], \"HyperParameters\": {\"mode\": \"supervised\"}, \"TrainingJobName\": \"trainng-step\", \"DebugHookConfig\": {\"S3OutputPath\": \"s3://sagemaker-us-east-1-759895829784/ex3-workflow-stepfunc/\"}}, \"Type\": \"Task\", \"End\": true}}};\n",
       "    var elementId = '#graph-326';\n",
       "    var events = { 'events': [{\"timestamp\": 1706035378.236, \"type\": \"ExecutionStarted\", \"id\": 1, \"previousEventId\": 0, \"executionStartedEventDetails\": {\"input\": \"{\\n    \\\"PreprocessingJobName\\\": \\\"ex3-creating-workflow-w-stepfunc\\\",\\n    \\\"TrainingJobName\\\": \\\"trainng-step\\\"\\n}\", \"inputDetails\": {\"truncated\": false}, \"roleArn\": \"arn:aws:iam::759895829784:role/step-function-role\"}}, {\"timestamp\": 1706035378.269, \"type\": \"TaskStateEntered\", \"id\": 2, \"previousEventId\": 0, \"stateEnteredEventDetails\": {\"name\": \"SageMaker pre-processing step 4\", \"input\": \"{\\n    \\\"PreprocessingJobName\\\": \\\"ex3-creating-workflow-w-stepfunc\\\",\\n    \\\"TrainingJobName\\\": \\\"trainng-step\\\"\\n}\", \"inputDetails\": {\"truncated\": false}}}, {\"timestamp\": 1706035378.269, \"type\": \"TaskScheduled\", \"id\": 3, \"previousEventId\": 2, \"taskScheduledEventDetails\": {\"resourceType\": \"sagemaker\", \"resource\": \"createProcessingJob.sync\", \"region\": \"us-east-1\", \"parameters\": \"{\\\"ProcessingJobName\\\":\\\"ex3-creating-workflow-w-stepfunc\\\",\\\"ProcessingInputs\\\":[{\\\"InputName\\\":\\\"input-1\\\",\\\"AppManaged\\\":false,\\\"S3Input\\\":{\\\"S3Uri\\\":\\\"s3://sagemaker-us-east-1-759895829784/ex3-workflow-stepfunc/reviews_Musical_Instruments_5.json.zip\\\",\\\"LocalPath\\\":\\\"/opt/ml/processing/input\\\",\\\"S3DataType\\\":\\\"S3Prefix\\\",\\\"S3InputMode\\\":\\\"File\\\",\\\"S3DataDistributionType\\\":\\\"FullyReplicated\\\",\\\"S3CompressionType\\\":\\\"None\\\"}},{\\\"InputName\\\":\\\"code\\\",\\\"AppManaged\\\":false,\\\"S3Input\\\":{\\\"S3Uri\\\":\\\"s3://sagemaker-us-east-1-759895829784/ex3-workflow-stepfunc/HelloBlazePreprocess.py\\\",\\\"LocalPath\\\":\\\"/opt/ml/processing/input/code\\\",\\\"S3DataType\\\":\\\"S3Prefix\\\",\\\"S3InputMode\\\":\\\"File\\\",\\\"S3DataDistributionType\\\":\\\"FullyReplicated\\\",\\\"S3CompressionType\\\":\\\"None\\\"}}],\\\"ProcessingOutputConfig\\\":{\\\"Outputs\\\":[{\\\"OutputName\\\":\\\"train_data\\\",\\\"AppManaged\\\":false,\\\"S3Output\\\":{\\\"S3Uri\\\":\\\"s3://sagemaker-us-east-1-759895829784/hello_blaze_train_scikit\\\",\\\"LocalPath\\\":\\\"/opt/ml/processing/output/train\\\",\\\"S3UploadMode\\\":\\\"EndOfJob\\\"}},{\\\"OutputName\\\":\\\"test_data\\\",\\\"AppManaged\\\":false,\\\"S3Output\\\":{\\\"S3Uri\\\":\\\"s3://sagemaker-us-east-1-759895829784/hello_blaze_test_scikit\\\",\\\"LocalPath\\\":\\\"/opt/ml/processing/output/test\\\",\\\"S3UploadMode\\\":\\\"EndOfJob\\\"}}]},\\\"AppSpecification\\\":{\\\"ImageUri\\\":\\\"683313688378.dkr.ecr.us-east-1.amazonaws.com/sagemaker-scikit-learn:0.20.0-cpu-py3\\\",\\\"ContainerEntrypoint\\\":[\\\"python3\\\",\\\"/opt/ml/processing/input/code/HelloBlazePreprocess.py\\\"]},\\\"RoleArn\\\":\\\"arn:aws:iam::759895829784:role/service-role/AmazonSageMaker-ExecutionRole-20240119T140378\\\",\\\"ProcessingResources\\\":{\\\"ClusterConfig\\\":{\\\"InstanceCount\\\":1,\\\"InstanceType\\\":\\\"ml.m5.large\\\",\\\"VolumeSizeInGB\\\":30}},\\\"Tags\\\":[{\\\"Key\\\":\\\"MANAGED_BY_AWS\\\",\\\"Value\\\":\\\"STARTED_BY_STEP_FUNCTIONS\\\"}]}\"}}, {\"timestamp\": 1706035378.366, \"type\": \"TaskStarted\", \"id\": 4, \"previousEventId\": 3, \"taskStartedEventDetails\": {\"resourceType\": \"sagemaker\", \"resource\": \"createProcessingJob.sync\"}}, {\"timestamp\": 1706035378.773, \"type\": \"TaskSubmitted\", \"id\": 5, \"previousEventId\": 4, \"taskSubmittedEventDetails\": {\"resourceType\": \"sagemaker\", \"resource\": \"createProcessingJob.sync\", \"output\": \"{\\\"ProcessingJobArn\\\":\\\"arn:aws:sagemaker:us-east-1:759895829784:processing-job/ex3-creating-workflow-w-stepfunc\\\",\\\"SdkHttpMetadata\\\":{\\\"AllHttpHeaders\\\":{\\\"x-amzn-RequestId\\\":[\\\"bc041b66-2145-4fee-a952-374831ba3444\\\"],\\\"Content-Length\\\":[\\\"111\\\"],\\\"Date\\\":[\\\"Tue, 23 Jan 2024 18:42:58 GMT\\\"],\\\"Content-Type\\\":[\\\"application/x-amz-json-1.1\\\"]},\\\"HttpHeaders\\\":{\\\"Content-Length\\\":\\\"111\\\",\\\"Content-Type\\\":\\\"application/x-amz-json-1.1\\\",\\\"Date\\\":\\\"Tue, 23 Jan 2024 18:42:58 GMT\\\",\\\"x-amzn-RequestId\\\":\\\"bc041b66-2145-4fee-a952-374831ba3444\\\"},\\\"HttpStatusCode\\\":200},\\\"SdkResponseMetadata\\\":{\\\"RequestId\\\":\\\"bc041b66-2145-4fee-a952-374831ba3444\\\"}}\", \"outputDetails\": {\"truncated\": false}}}, {\"timestamp\": 1706035672.107, \"type\": \"TaskSucceeded\", \"id\": 6, \"previousEventId\": 5, \"taskSucceededEventDetails\": {\"resourceType\": \"sagemaker\", \"resource\": \"createProcessingJob.sync\", \"output\": \"{\\\"SdkResponseMetadata\\\":null,\\\"SdkHttpMetadata\\\":null,\\\"ProcessingInputs\\\":[{\\\"InputName\\\":\\\"input-1\\\",\\\"AppManaged\\\":false,\\\"S3Input\\\":{\\\"S3Uri\\\":\\\"s3://sagemaker-us-east-1-759895829784/ex3-workflow-stepfunc/reviews_Musical_Instruments_5.json.zip\\\",\\\"LocalPath\\\":\\\"/opt/ml/processing/input\\\",\\\"S3DataType\\\":\\\"S3_PREFIX\\\",\\\"S3InputMode\\\":\\\"FILE\\\",\\\"S3DataDistributionType\\\":\\\"FULLYREPLICATED\\\",\\\"S3CompressionType\\\":null},\\\"DatasetDefinition\\\":null},{\\\"InputName\\\":\\\"code\\\",\\\"AppManaged\\\":false,\\\"S3Input\\\":{\\\"S3Uri\\\":\\\"s3://sagemaker-us-east-1-759895829784/ex3-workflow-stepfunc/HelloBlazePreprocess.py\\\",\\\"LocalPath\\\":\\\"/opt/ml/processing/input/code\\\",\\\"S3DataType\\\":\\\"S3_PREFIX\\\",\\\"S3InputMode\\\":\\\"FILE\\\",\\\"S3DataDistributionType\\\":\\\"FULLYREPLICATED\\\",\\\"S3CompressionType\\\":null},\\\"DatasetDefinition\\\":null}],\\\"ProcessingOutputConfig\\\":{\\\"Outputs\\\":[{\\\"OutputName\\\":\\\"train_data\\\",\\\"S3Output\\\":{\\\"S3Uri\\\":\\\"s3://sagemaker-us-east-1-759895829784/hello_blaze_train_scikit\\\",\\\"LocalPath\\\":\\\"/opt/ml/processing/output/train\\\",\\\"S3UploadMode\\\":\\\"END_OF_JOB\\\"},\\\"FeatureStoreOutput\\\":null,\\\"AppManaged\\\":false},{\\\"OutputName\\\":\\\"test_data\\\",\\\"S3Output\\\":{\\\"S3Uri\\\":\\\"s3://sagemaker-us-east-1-759895829784/hello_blaze_test_scikit\\\",\\\"LocalPath\\\":\\\"/opt/ml/processing/output/test\\\",\\\"S3UploadMode\\\":\\\"END_OF_JOB\\\"},\\\"FeatureStoreOutput\\\":null,\\\"AppManaged\\\":false}],\\\"KmsKeyId\\\":null},\\\"ProcessingJobName\\\":\\\"ex3-creating-workflow-w-stepfunc\\\",\\\"ProcessingResources\\\":{\\\"ClusterConfig\\\":{\\\"InstanceCount\\\":1,\\\"InstanceType\\\":\\\"ml.m5.large\\\",\\\"VolumeSizeInGB\\\":30,\\\"VolumeKmsKeyId\\\":null}},\\\"StoppingCondition\\\":{\\\"MaxRuntimeInSeconds\\\":86400},\\\"AppSpecification\\\":{\\\"ImageUri\\\":\\\"683313688378.dkr.ecr.us-east-1.amazonaws.com/sagemaker-scikit-learn:0.20.0-cpu-py3\\\",\\\"ContainerEntrypoint\\\":[\\\"python3\\\",\\\"/opt/ml/processing/input/code/HelloBlazePreprocess.py\\\"],\\\"ContainerArguments\\\":null},\\\"Environment\\\":null,\\\"NetworkConfig\\\":null,\\\"RoleArn\\\":\\\"arn:aws:iam::759895829784:role/service-role/AmazonSageMaker-ExecutionRole-20240119T140378\\\",\\\"ExperimentConfig\\\":{\\\"ExperimentName\\\":null,\\\"TrialName\\\":null,\\\"TrialComponentDisplayName\\\":null,\\\"RunName\\\":null},\\\"ProcessingJobArn\\\":\\\"arn:aws:sagemaker:us-east-1:759895829784:processing-job/ex3-creating-workflow-w-stepfunc\\\",\\\"ProcessingJobStatus\\\":\\\"Completed\\\",\\\"ExitMessage\\\":null,\\\"FailureReason\\\":null,\\\"ProcessingEndTime\\\":1706035669000,\\\"ProcessingStartTime\\\":1706035651000,\\\"LastModifiedTime\\\":1706035669000,\\\"CreationTime\\\":1706035378000,\\\"LastModifiedBy\\\":null,\\\"CreatedBy\\\":null,\\\"MonitoringScheduleArn\\\":null,\\\"AutoMLJobArn\\\":null,\\\"TrainingJobArn\\\":null,\\\"Tags\\\":{\\\"AWS_STEP_FUNCTIONS_EXECUTION_ARN\\\":\\\"arn:aws:states:us-east-1:759895829784:execution:process-training-35377:ad4e9415-6000-44be-b341-695c9bc77a05\\\",\\\"MANAGED_BY_AWS\\\":\\\"STARTED_BY_STEP_FUNCTIONS\\\"}}\", \"outputDetails\": {\"truncated\": false}}}, {\"timestamp\": 1706035672.124, \"type\": \"TaskStateExited\", \"id\": 7, \"previousEventId\": 6, \"stateExitedEventDetails\": {\"name\": \"SageMaker pre-processing step 4\", \"output\": \"{\\\"SdkResponseMetadata\\\":null,\\\"SdkHttpMetadata\\\":null,\\\"ProcessingInputs\\\":[{\\\"InputName\\\":\\\"input-1\\\",\\\"AppManaged\\\":false,\\\"S3Input\\\":{\\\"S3Uri\\\":\\\"s3://sagemaker-us-east-1-759895829784/ex3-workflow-stepfunc/reviews_Musical_Instruments_5.json.zip\\\",\\\"LocalPath\\\":\\\"/opt/ml/processing/input\\\",\\\"S3DataType\\\":\\\"S3_PREFIX\\\",\\\"S3InputMode\\\":\\\"FILE\\\",\\\"S3DataDistributionType\\\":\\\"FULLYREPLICATED\\\",\\\"S3CompressionType\\\":null},\\\"DatasetDefinition\\\":null},{\\\"InputName\\\":\\\"code\\\",\\\"AppManaged\\\":false,\\\"S3Input\\\":{\\\"S3Uri\\\":\\\"s3://sagemaker-us-east-1-759895829784/ex3-workflow-stepfunc/HelloBlazePreprocess.py\\\",\\\"LocalPath\\\":\\\"/opt/ml/processing/input/code\\\",\\\"S3DataType\\\":\\\"S3_PREFIX\\\",\\\"S3InputMode\\\":\\\"FILE\\\",\\\"S3DataDistributionType\\\":\\\"FULLYREPLICATED\\\",\\\"S3CompressionType\\\":null},\\\"DatasetDefinition\\\":null}],\\\"ProcessingOutputConfig\\\":{\\\"Outputs\\\":[{\\\"OutputName\\\":\\\"train_data\\\",\\\"S3Output\\\":{\\\"S3Uri\\\":\\\"s3://sagemaker-us-east-1-759895829784/hello_blaze_train_scikit\\\",\\\"LocalPath\\\":\\\"/opt/ml/processing/output/train\\\",\\\"S3UploadMode\\\":\\\"END_OF_JOB\\\"},\\\"FeatureStoreOutput\\\":null,\\\"AppManaged\\\":false},{\\\"OutputName\\\":\\\"test_data\\\",\\\"S3Output\\\":{\\\"S3Uri\\\":\\\"s3://sagemaker-us-east-1-759895829784/hello_blaze_test_scikit\\\",\\\"LocalPath\\\":\\\"/opt/ml/processing/output/test\\\",\\\"S3UploadMode\\\":\\\"END_OF_JOB\\\"},\\\"FeatureStoreOutput\\\":null,\\\"AppManaged\\\":false}],\\\"KmsKeyId\\\":null},\\\"ProcessingJobName\\\":\\\"ex3-creating-workflow-w-stepfunc\\\",\\\"ProcessingResources\\\":{\\\"ClusterConfig\\\":{\\\"InstanceCount\\\":1,\\\"InstanceType\\\":\\\"ml.m5.large\\\",\\\"VolumeSizeInGB\\\":30,\\\"VolumeKmsKeyId\\\":null}},\\\"StoppingCondition\\\":{\\\"MaxRuntimeInSeconds\\\":86400},\\\"AppSpecification\\\":{\\\"ImageUri\\\":\\\"683313688378.dkr.ecr.us-east-1.amazonaws.com/sagemaker-scikit-learn:0.20.0-cpu-py3\\\",\\\"ContainerEntrypoint\\\":[\\\"python3\\\",\\\"/opt/ml/processing/input/code/HelloBlazePreprocess.py\\\"],\\\"ContainerArguments\\\":null},\\\"Environment\\\":null,\\\"NetworkConfig\\\":null,\\\"RoleArn\\\":\\\"arn:aws:iam::759895829784:role/service-role/AmazonSageMaker-ExecutionRole-20240119T140378\\\",\\\"ExperimentConfig\\\":{\\\"ExperimentName\\\":null,\\\"TrialName\\\":null,\\\"TrialComponentDisplayName\\\":null,\\\"RunName\\\":null},\\\"ProcessingJobArn\\\":\\\"arn:aws:sagemaker:us-east-1:759895829784:processing-job/ex3-creating-workflow-w-stepfunc\\\",\\\"ProcessingJobStatus\\\":\\\"Completed\\\",\\\"ExitMessage\\\":null,\\\"FailureReason\\\":null,\\\"ProcessingEndTime\\\":1706035669000,\\\"ProcessingStartTime\\\":1706035651000,\\\"LastModifiedTime\\\":1706035669000,\\\"CreationTime\\\":1706035378000,\\\"LastModifiedBy\\\":null,\\\"CreatedBy\\\":null,\\\"MonitoringScheduleArn\\\":null,\\\"AutoMLJobArn\\\":null,\\\"TrainingJobArn\\\":null,\\\"Tags\\\":{\\\"AWS_STEP_FUNCTIONS_EXECUTION_ARN\\\":\\\"arn:aws:states:us-east-1:759895829784:execution:process-training-35377:ad4e9415-6000-44be-b341-695c9bc77a05\\\",\\\"MANAGED_BY_AWS\\\":\\\"STARTED_BY_STEP_FUNCTIONS\\\"}}\", \"outputDetails\": {\"truncated\": false}}}, {\"timestamp\": 1706035672.124, \"type\": \"TaskStateEntered\", \"id\": 8, \"previousEventId\": 7, \"stateEnteredEventDetails\": {\"name\": \"SageMaker Training Step\", \"input\": \"{\\\"SdkResponseMetadata\\\":null,\\\"SdkHttpMetadata\\\":null,\\\"ProcessingInputs\\\":[{\\\"InputName\\\":\\\"input-1\\\",\\\"AppManaged\\\":false,\\\"S3Input\\\":{\\\"S3Uri\\\":\\\"s3://sagemaker-us-east-1-759895829784/ex3-workflow-stepfunc/reviews_Musical_Instruments_5.json.zip\\\",\\\"LocalPath\\\":\\\"/opt/ml/processing/input\\\",\\\"S3DataType\\\":\\\"S3_PREFIX\\\",\\\"S3InputMode\\\":\\\"FILE\\\",\\\"S3DataDistributionType\\\":\\\"FULLYREPLICATED\\\",\\\"S3CompressionType\\\":null},\\\"DatasetDefinition\\\":null},{\\\"InputName\\\":\\\"code\\\",\\\"AppManaged\\\":false,\\\"S3Input\\\":{\\\"S3Uri\\\":\\\"s3://sagemaker-us-east-1-759895829784/ex3-workflow-stepfunc/HelloBlazePreprocess.py\\\",\\\"LocalPath\\\":\\\"/opt/ml/processing/input/code\\\",\\\"S3DataType\\\":\\\"S3_PREFIX\\\",\\\"S3InputMode\\\":\\\"FILE\\\",\\\"S3DataDistributionType\\\":\\\"FULLYREPLICATED\\\",\\\"S3CompressionType\\\":null},\\\"DatasetDefinition\\\":null}],\\\"ProcessingOutputConfig\\\":{\\\"Outputs\\\":[{\\\"OutputName\\\":\\\"train_data\\\",\\\"S3Output\\\":{\\\"S3Uri\\\":\\\"s3://sagemaker-us-east-1-759895829784/hello_blaze_train_scikit\\\",\\\"LocalPath\\\":\\\"/opt/ml/processing/output/train\\\",\\\"S3UploadMode\\\":\\\"END_OF_JOB\\\"},\\\"FeatureStoreOutput\\\":null,\\\"AppManaged\\\":false},{\\\"OutputName\\\":\\\"test_data\\\",\\\"S3Output\\\":{\\\"S3Uri\\\":\\\"s3://sagemaker-us-east-1-759895829784/hello_blaze_test_scikit\\\",\\\"LocalPath\\\":\\\"/opt/ml/processing/output/test\\\",\\\"S3UploadMode\\\":\\\"END_OF_JOB\\\"},\\\"FeatureStoreOutput\\\":null,\\\"AppManaged\\\":false}],\\\"KmsKeyId\\\":null},\\\"ProcessingJobName\\\":\\\"ex3-creating-workflow-w-stepfunc\\\",\\\"ProcessingResources\\\":{\\\"ClusterConfig\\\":{\\\"InstanceCount\\\":1,\\\"InstanceType\\\":\\\"ml.m5.large\\\",\\\"VolumeSizeInGB\\\":30,\\\"VolumeKmsKeyId\\\":null}},\\\"StoppingCondition\\\":{\\\"MaxRuntimeInSeconds\\\":86400},\\\"AppSpecification\\\":{\\\"ImageUri\\\":\\\"683313688378.dkr.ecr.us-east-1.amazonaws.com/sagemaker-scikit-learn:0.20.0-cpu-py3\\\",\\\"ContainerEntrypoint\\\":[\\\"python3\\\",\\\"/opt/ml/processing/input/code/HelloBlazePreprocess.py\\\"],\\\"ContainerArguments\\\":null},\\\"Environment\\\":null,\\\"NetworkConfig\\\":null,\\\"RoleArn\\\":\\\"arn:aws:iam::759895829784:role/service-role/AmazonSageMaker-ExecutionRole-20240119T140378\\\",\\\"ExperimentConfig\\\":{\\\"ExperimentName\\\":null,\\\"TrialName\\\":null,\\\"TrialComponentDisplayName\\\":null,\\\"RunName\\\":null},\\\"ProcessingJobArn\\\":\\\"arn:aws:sagemaker:us-east-1:759895829784:processing-job/ex3-creating-workflow-w-stepfunc\\\",\\\"ProcessingJobStatus\\\":\\\"Completed\\\",\\\"ExitMessage\\\":null,\\\"FailureReason\\\":null,\\\"ProcessingEndTime\\\":1706035669000,\\\"ProcessingStartTime\\\":1706035651000,\\\"LastModifiedTime\\\":1706035669000,\\\"CreationTime\\\":1706035378000,\\\"LastModifiedBy\\\":null,\\\"CreatedBy\\\":null,\\\"MonitoringScheduleArn\\\":null,\\\"AutoMLJobArn\\\":null,\\\"TrainingJobArn\\\":null,\\\"Tags\\\":{\\\"AWS_STEP_FUNCTIONS_EXECUTION_ARN\\\":\\\"arn:aws:states:us-east-1:759895829784:execution:process-training-35377:ad4e9415-6000-44be-b341-695c9bc77a05\\\",\\\"MANAGED_BY_AWS\\\":\\\"STARTED_BY_STEP_FUNCTIONS\\\"}}\", \"inputDetails\": {\"truncated\": false}}}, {\"timestamp\": 1706035672.124, \"type\": \"TaskScheduled\", \"id\": 9, \"previousEventId\": 8, \"taskScheduledEventDetails\": {\"resourceType\": \"sagemaker\", \"resource\": \"createTrainingJob.sync\", \"region\": \"us-east-1\", \"parameters\": \"{\\\"AlgorithmSpecification\\\":{\\\"TrainingImage\\\":\\\"811284229777.dkr.ecr.us-east-1.amazonaws.com/blazingtext:1\\\",\\\"TrainingInputMode\\\":\\\"File\\\"},\\\"OutputDataConfig\\\":{\\\"S3OutputPath\\\":\\\"s3://sagemaker-us-east-1-759895829784/ex3-workflow-stepfunc/\\\"},\\\"StoppingCondition\\\":{\\\"MaxRuntimeInSeconds\\\":360000},\\\"ResourceConfig\\\":{\\\"VolumeSizeInGB\\\":30,\\\"InstanceCount\\\":1,\\\"InstanceType\\\":\\\"ml.m5.large\\\"},\\\"RoleArn\\\":\\\"arn:aws:iam::759895829784:role/service-role/AmazonSageMaker-ExecutionRole-20240119T140378\\\",\\\"InputDataConfig\\\":[{\\\"DataSource\\\":{\\\"S3DataSource\\\":{\\\"S3DataType\\\":\\\"S3Prefix\\\",\\\"S3Uri\\\":\\\"s3://sagemaker-us-east-1-759895829784/hello_blaze_train_scikit\\\",\\\"S3DataDistributionType\\\":\\\"FullyReplicated\\\"}},\\\"ContentType\\\":\\\"text/plain\\\",\\\"ChannelName\\\":\\\"train\\\"},{\\\"DataSource\\\":{\\\"S3DataSource\\\":{\\\"S3DataType\\\":\\\"S3Prefix\\\",\\\"S3Uri\\\":\\\"s3://sagemaker-us-east-1-759895829784/hello_blaze_test_scikit\\\",\\\"S3DataDistributionType\\\":\\\"FullyReplicated\\\"}},\\\"ContentType\\\":\\\"text/plain\\\",\\\"ChannelName\\\":\\\"validation\\\"}],\\\"HyperParameters\\\":{\\\"mode\\\":\\\"supervised\\\"},\\\"TrainingJobName\\\":\\\"trainng-step\\\",\\\"DebugHookConfig\\\":{\\\"S3OutputPath\\\":\\\"s3://sagemaker-us-east-1-759895829784/ex3-workflow-stepfunc/\\\"},\\\"Tags\\\":[{\\\"Key\\\":\\\"MANAGED_BY_AWS\\\",\\\"Value\\\":\\\"STARTED_BY_STEP_FUNCTIONS\\\"}]}\"}}, {\"timestamp\": 1706035672.195, \"type\": \"TaskStarted\", \"id\": 10, \"previousEventId\": 9, \"taskStartedEventDetails\": {\"resourceType\": \"sagemaker\", \"resource\": \"createTrainingJob.sync\"}}, {\"timestamp\": 1706035672.605, \"type\": \"TaskSubmitted\", \"id\": 11, \"previousEventId\": 10, \"taskSubmittedEventDetails\": {\"resourceType\": \"sagemaker\", \"resource\": \"createTrainingJob.sync\", \"output\": \"{\\\"SdkHttpMetadata\\\":{\\\"AllHttpHeaders\\\":{\\\"x-amzn-RequestId\\\":[\\\"2176b01f-e66d-4c8e-8ef8-aa884db765a9\\\"],\\\"Content-Length\\\":[\\\"87\\\"],\\\"Date\\\":[\\\"Tue, 23 Jan 2024 18:47:52 GMT\\\"],\\\"Content-Type\\\":[\\\"application/x-amz-json-1.1\\\"]},\\\"HttpHeaders\\\":{\\\"Content-Length\\\":\\\"87\\\",\\\"Content-Type\\\":\\\"application/x-amz-json-1.1\\\",\\\"Date\\\":\\\"Tue, 23 Jan 2024 18:47:52 GMT\\\",\\\"x-amzn-RequestId\\\":\\\"2176b01f-e66d-4c8e-8ef8-aa884db765a9\\\"},\\\"HttpStatusCode\\\":200},\\\"SdkResponseMetadata\\\":{\\\"RequestId\\\":\\\"2176b01f-e66d-4c8e-8ef8-aa884db765a9\\\"},\\\"TrainingJobArn\\\":\\\"arn:aws:sagemaker:us-east-1:759895829784:training-job/trainng-step\\\"}\", \"outputDetails\": {\"truncated\": false}}}, {\"timestamp\": 1706035882.97, \"type\": \"TaskSucceeded\", \"id\": 12, \"previousEventId\": 11, \"taskSucceededEventDetails\": {\"resourceType\": \"sagemaker\", \"resource\": \"createTrainingJob.sync\", \"output\": \"{\\\"SdkResponseMetadata\\\":null,\\\"SdkHttpMetadata\\\":null,\\\"TrainingJobName\\\":\\\"trainng-step\\\",\\\"TrainingJobArn\\\":\\\"arn:aws:sagemaker:us-east-1:759895829784:training-job/trainng-step\\\",\\\"ProcessingJobArn\\\":null,\\\"TuningJobArn\\\":null,\\\"LabelingJobArn\\\":null,\\\"AutoMLJobArn\\\":null,\\\"ModelArtifacts\\\":{\\\"S3ModelArtifacts\\\":\\\"s3://sagemaker-us-east-1-759895829784/ex3-workflow-stepfunc/trainng-step/output/model.tar.gz\\\"},\\\"TrainingJobOutput\\\":null,\\\"TrainingJobStatus\\\":\\\"Completed\\\",\\\"SecondaryStatus\\\":\\\"Completed\\\",\\\"FailureReason\\\":null,\\\"HyperParameters\\\":{\\\"mode\\\":\\\"supervised\\\"},\\\"AlgorithmSpecification\\\":{\\\"TrainingImage\\\":\\\"811284229777.dkr.ecr.us-east-1.amazonaws.com/blazingtext:1\\\",\\\"AlgorithmName\\\":null,\\\"TrainingInputMode\\\":\\\"FILE\\\",\\\"MetricDefinitions\\\":null,\\\"EnableSageMakerMetricsTimeSeries\\\":null,\\\"ContainerEntrypoint\\\":null,\\\"ContainerArguments\\\":null,\\\"TrainingImageConfig\\\":null},\\\"RoleArn\\\":\\\"arn:aws:iam::759895829784:role/service-role/AmazonSageMaker-ExecutionRole-20240119T140378\\\",\\\"InputDataConfig\\\":[{\\\"ChannelName\\\":\\\"train\\\",\\\"DataSource\\\":{\\\"S3DataSource\\\":{\\\"S3DataType\\\":\\\"S3_PREFIX\\\",\\\"S3Uri\\\":\\\"s3://sagemaker-us-east-1-759895829784/hello_blaze_train_scikit\\\",\\\"S3DataDistributionType\\\":\\\"FULLY_REPLICATED\\\",\\\"AttributeNames\\\":null,\\\"InstanceGroupNames\\\":null},\\\"FileSystemDataSource\\\":null},\\\"ContentType\\\":\\\"text/plain\\\",\\\"CompressionType\\\":\\\"NONE\\\",\\\"RecordWrapperType\\\":\\\"NONE\\\",\\\"InputMode\\\":null,\\\"ShuffleConfig\\\":null,\\\"EnableFFM\\\":null},{\\\"ChannelName\\\":\\\"validation\\\",\\\"DataSource\\\":{\\\"S3DataSource\\\":{\\\"S3DataType\\\":\\\"S3_PREFIX\\\",\\\"S3Uri\\\":\\\"s3://sagemaker-us-east-1-759895829784/hello_blaze_test_scikit\\\",\\\"S3DataDistributionType\\\":\\\"FULLY_REPLICATED\\\",\\\"AttributeNames\\\":null,\\\"InstanceGroupNames\\\":null},\\\"FileSystemDataSource\\\":null},\\\"ContentType\\\":\\\"text/plain\\\",\\\"CompressionType\\\":\\\"NONE\\\",\\\"RecordWrapperType\\\":\\\"NONE\\\",\\\"InputMode\\\":null,\\\"ShuffleConfig\\\":null,\\\"EnableFFM\\\":null}],\\\"OutputDataConfig\\\":{\\\"KmsKeyId\\\":null,\\\"S3OutputPath\\\":\\\"s3://sagemaker-us-east-1-759895829784/ex3-workflow-stepfunc/\\\",\\\"CompressionType\\\":null,\\\"RemoveJobNameFromS3OutputPath\\\":null,\\\"DisableModelUpload\\\":null,\\\"Channels\\\":null},\\\"ResourceConfig\\\":{\\\"InstanceType\\\":\\\"ml.m5.large\\\",\\\"InstanceCount\\\":1,\\\"VolumeSizeInGB\\\":30,\\\"VolumeKmsKeyId\\\":null,\\\"KeepAlivePeriodInSeconds\\\":0,\\\"CapacityReservationIds\\\":null,\\\"InstanceGroups\\\":null},\\\"WarmPoolStatus\\\":null,\\\"VpcConfig\\\":null,\\\"StoppingCondition\\\":{\\\"MaxRuntimeInSeconds\\\":360000,\\\"MaxWaitTimeInSeconds\\\":null,\\\"MaxPendingTimeInSeconds\\\":null},\\\"CreationTime\\\":1706035672416,\\\"TrainingStartTime\\\":1706035757872,\\\"TrainingEndTime\\\":1706035879942,\\\"LastModifiedTime\\\":1706035879942,\\\"SecondaryStatusTransitions\\\":[{\\\"Status\\\":\\\"Starting\\\",\\\"StartTime\\\":1706035672416,\\\"EndTime\\\":1706035757872,\\\"StatusMessage\\\":\\\"Preparing the instances for training\\\"},{\\\"Status\\\":\\\"Downloading\\\",\\\"StartTime\\\":1706035757872,\\\"EndTime\\\":1706035818862,\\\"StatusMessage\\\":\\\"Downloading the training image\\\"},{\\\"Status\\\":\\\"Training\\\",\\\"StartTime\\\":1706035818862,\\\"EndTime\\\":1706035834257,\\\"StatusMessage\\\":\\\"Training image download completed. Training in progress.\\\"},{\\\"Status\\\":\\\"Uploading\\\",\\\"StartTime\\\":1706035834257,\\\"EndTime\\\":1706035879942,\\\"StatusMessage\\\":\\\"Uploading generated training model\\\"},{\\\"Status\\\":\\\"Completed\\\",\\\"StartTime\\\":1706035879942,\\\"EndTime\\\":1706035879942,\\\"StatusMessage\\\":\\\"Training job completed\\\"}],\\\"FinalMetricDataList\\\":null,\\\"EnableNetworkIsolation\\\":null,\\\"EnableInterContainerTrafficEncryption\\\":null,\\\"EnableManagedSpotTraining\\\":null,\\\"CheckpointConfig\\\":null,\\\"TrainingTimeInSeconds\\\":null,\\\"BillableTimeInSeconds\\\":null,\\\"DebugHookConfig\\\":{\\\"LocalPath\\\":null,\\\"S3OutputPath\\\":\\\"s3://sagemaker-us-east-1-759895829784/ex3-workflow-stepfunc/\\\",\\\"HookParameters\\\":null,\\\"CollectionConfigurations\\\":null},\\\"ExperimentConfig\\\":null,\\\"DebugRuleConfigurations\\\":null,\\\"TensorBoardOutputConfig\\\":null,\\\"DebugRuleEvaluationStatuses\\\":null,\\\"UpstreamPlatformConfig\\\":null,\\\"ProfilerConfig\\\":null,\\\"ProfilerRuleConfigurations\\\":null,\\\"ProfilerRuleEvaluationStatuses\\\":null,\\\"ProfilingStatus\\\":null,\\\"Environment\\\":null,\\\"RetryStrategy\\\":null,\\\"LastModifiedBy\\\":null,\\\"CreatedBy\\\":null,\\\"DisableEFA\\\":null,\\\"ProcessingJobConfig\\\":null,\\\"ImageMetadata\\\":null,\\\"RemoteDebugConfig\\\":null,\\\"ResourceTags\\\":null,\\\"InfraCheckConfig\\\":null,\\\"Tags\\\":{\\\"AWS_STEP_FUNCTIONS_EXECUTION_ARN\\\":\\\"arn:aws:states:us-east-1:759895829784:execution:process-training-35377:ad4e9415-6000-44be-b341-695c9bc77a05\\\",\\\"MANAGED_BY_AWS\\\":\\\"STARTED_BY_STEP_FUNCTIONS\\\"}}\", \"outputDetails\": {\"truncated\": false}}}, {\"timestamp\": 1706035883.012, \"type\": \"TaskStateExited\", \"id\": 13, \"previousEventId\": 12, \"stateExitedEventDetails\": {\"name\": \"SageMaker Training Step\", \"output\": \"{\\\"SdkResponseMetadata\\\":null,\\\"SdkHttpMetadata\\\":null,\\\"TrainingJobName\\\":\\\"trainng-step\\\",\\\"TrainingJobArn\\\":\\\"arn:aws:sagemaker:us-east-1:759895829784:training-job/trainng-step\\\",\\\"ProcessingJobArn\\\":null,\\\"TuningJobArn\\\":null,\\\"LabelingJobArn\\\":null,\\\"AutoMLJobArn\\\":null,\\\"ModelArtifacts\\\":{\\\"S3ModelArtifacts\\\":\\\"s3://sagemaker-us-east-1-759895829784/ex3-workflow-stepfunc/trainng-step/output/model.tar.gz\\\"},\\\"TrainingJobOutput\\\":null,\\\"TrainingJobStatus\\\":\\\"Completed\\\",\\\"SecondaryStatus\\\":\\\"Completed\\\",\\\"FailureReason\\\":null,\\\"HyperParameters\\\":{\\\"mode\\\":\\\"supervised\\\"},\\\"AlgorithmSpecification\\\":{\\\"TrainingImage\\\":\\\"811284229777.dkr.ecr.us-east-1.amazonaws.com/blazingtext:1\\\",\\\"AlgorithmName\\\":null,\\\"TrainingInputMode\\\":\\\"FILE\\\",\\\"MetricDefinitions\\\":null,\\\"EnableSageMakerMetricsTimeSeries\\\":null,\\\"ContainerEntrypoint\\\":null,\\\"ContainerArguments\\\":null,\\\"TrainingImageConfig\\\":null},\\\"RoleArn\\\":\\\"arn:aws:iam::759895829784:role/service-role/AmazonSageMaker-ExecutionRole-20240119T140378\\\",\\\"InputDataConfig\\\":[{\\\"ChannelName\\\":\\\"train\\\",\\\"DataSource\\\":{\\\"S3DataSource\\\":{\\\"S3DataType\\\":\\\"S3_PREFIX\\\",\\\"S3Uri\\\":\\\"s3://sagemaker-us-east-1-759895829784/hello_blaze_train_scikit\\\",\\\"S3DataDistributionType\\\":\\\"FULLY_REPLICATED\\\",\\\"AttributeNames\\\":null,\\\"InstanceGroupNames\\\":null},\\\"FileSystemDataSource\\\":null},\\\"ContentType\\\":\\\"text/plain\\\",\\\"CompressionType\\\":\\\"NONE\\\",\\\"RecordWrapperType\\\":\\\"NONE\\\",\\\"InputMode\\\":null,\\\"ShuffleConfig\\\":null,\\\"EnableFFM\\\":null},{\\\"ChannelName\\\":\\\"validation\\\",\\\"DataSource\\\":{\\\"S3DataSource\\\":{\\\"S3DataType\\\":\\\"S3_PREFIX\\\",\\\"S3Uri\\\":\\\"s3://sagemaker-us-east-1-759895829784/hello_blaze_test_scikit\\\",\\\"S3DataDistributionType\\\":\\\"FULLY_REPLICATED\\\",\\\"AttributeNames\\\":null,\\\"InstanceGroupNames\\\":null},\\\"FileSystemDataSource\\\":null},\\\"ContentType\\\":\\\"text/plain\\\",\\\"CompressionType\\\":\\\"NONE\\\",\\\"RecordWrapperType\\\":\\\"NONE\\\",\\\"InputMode\\\":null,\\\"ShuffleConfig\\\":null,\\\"EnableFFM\\\":null}],\\\"OutputDataConfig\\\":{\\\"KmsKeyId\\\":null,\\\"S3OutputPath\\\":\\\"s3://sagemaker-us-east-1-759895829784/ex3-workflow-stepfunc/\\\",\\\"CompressionType\\\":null,\\\"RemoveJobNameFromS3OutputPath\\\":null,\\\"DisableModelUpload\\\":null,\\\"Channels\\\":null},\\\"ResourceConfig\\\":{\\\"InstanceType\\\":\\\"ml.m5.large\\\",\\\"InstanceCount\\\":1,\\\"VolumeSizeInGB\\\":30,\\\"VolumeKmsKeyId\\\":null,\\\"KeepAlivePeriodInSeconds\\\":0,\\\"CapacityReservationIds\\\":null,\\\"InstanceGroups\\\":null},\\\"WarmPoolStatus\\\":null,\\\"VpcConfig\\\":null,\\\"StoppingCondition\\\":{\\\"MaxRuntimeInSeconds\\\":360000,\\\"MaxWaitTimeInSeconds\\\":null,\\\"MaxPendingTimeInSeconds\\\":null},\\\"CreationTime\\\":1706035672416,\\\"TrainingStartTime\\\":1706035757872,\\\"TrainingEndTime\\\":1706035879942,\\\"LastModifiedTime\\\":1706035879942,\\\"SecondaryStatusTransitions\\\":[{\\\"Status\\\":\\\"Starting\\\",\\\"StartTime\\\":1706035672416,\\\"EndTime\\\":1706035757872,\\\"StatusMessage\\\":\\\"Preparing the instances for training\\\"},{\\\"Status\\\":\\\"Downloading\\\",\\\"StartTime\\\":1706035757872,\\\"EndTime\\\":1706035818862,\\\"StatusMessage\\\":\\\"Downloading the training image\\\"},{\\\"Status\\\":\\\"Training\\\",\\\"StartTime\\\":1706035818862,\\\"EndTime\\\":1706035834257,\\\"StatusMessage\\\":\\\"Training image download completed. Training in progress.\\\"},{\\\"Status\\\":\\\"Uploading\\\",\\\"StartTime\\\":1706035834257,\\\"EndTime\\\":1706035879942,\\\"StatusMessage\\\":\\\"Uploading generated training model\\\"},{\\\"Status\\\":\\\"Completed\\\",\\\"StartTime\\\":1706035879942,\\\"EndTime\\\":1706035879942,\\\"StatusMessage\\\":\\\"Training job completed\\\"}],\\\"FinalMetricDataList\\\":null,\\\"EnableNetworkIsolation\\\":null,\\\"EnableInterContainerTrafficEncryption\\\":null,\\\"EnableManagedSpotTraining\\\":null,\\\"CheckpointConfig\\\":null,\\\"TrainingTimeInSeconds\\\":null,\\\"BillableTimeInSeconds\\\":null,\\\"DebugHookConfig\\\":{\\\"LocalPath\\\":null,\\\"S3OutputPath\\\":\\\"s3://sagemaker-us-east-1-759895829784/ex3-workflow-stepfunc/\\\",\\\"HookParameters\\\":null,\\\"CollectionConfigurations\\\":null},\\\"ExperimentConfig\\\":null,\\\"DebugRuleConfigurations\\\":null,\\\"TensorBoardOutputConfig\\\":null,\\\"DebugRuleEvaluationStatuses\\\":null,\\\"UpstreamPlatformConfig\\\":null,\\\"ProfilerConfig\\\":null,\\\"ProfilerRuleConfigurations\\\":null,\\\"ProfilerRuleEvaluationStatuses\\\":null,\\\"ProfilingStatus\\\":null,\\\"Environment\\\":null,\\\"RetryStrategy\\\":null,\\\"LastModifiedBy\\\":null,\\\"CreatedBy\\\":null,\\\"DisableEFA\\\":null,\\\"ProcessingJobConfig\\\":null,\\\"ImageMetadata\\\":null,\\\"RemoteDebugConfig\\\":null,\\\"ResourceTags\\\":null,\\\"InfraCheckConfig\\\":null,\\\"Tags\\\":{\\\"AWS_STEP_FUNCTIONS_EXECUTION_ARN\\\":\\\"arn:aws:states:us-east-1:759895829784:execution:process-training-35377:ad4e9415-6000-44be-b341-695c9bc77a05\\\",\\\"MANAGED_BY_AWS\\\":\\\"STARTED_BY_STEP_FUNCTIONS\\\"}}\", \"outputDetails\": {\"truncated\": false}}}, {\"timestamp\": 1706035883.066, \"type\": \"ExecutionSucceeded\", \"id\": 14, \"previousEventId\": 13, \"executionSucceededEventDetails\": {\"output\": \"{\\\"SdkResponseMetadata\\\":null,\\\"SdkHttpMetadata\\\":null,\\\"TrainingJobName\\\":\\\"trainng-step\\\",\\\"TrainingJobArn\\\":\\\"arn:aws:sagemaker:us-east-1:759895829784:training-job/trainng-step\\\",\\\"ProcessingJobArn\\\":null,\\\"TuningJobArn\\\":null,\\\"LabelingJobArn\\\":null,\\\"AutoMLJobArn\\\":null,\\\"ModelArtifacts\\\":{\\\"S3ModelArtifacts\\\":\\\"s3://sagemaker-us-east-1-759895829784/ex3-workflow-stepfunc/trainng-step/output/model.tar.gz\\\"},\\\"TrainingJobOutput\\\":null,\\\"TrainingJobStatus\\\":\\\"Completed\\\",\\\"SecondaryStatus\\\":\\\"Completed\\\",\\\"FailureReason\\\":null,\\\"HyperParameters\\\":{\\\"mode\\\":\\\"supervised\\\"},\\\"AlgorithmSpecification\\\":{\\\"TrainingImage\\\":\\\"811284229777.dkr.ecr.us-east-1.amazonaws.com/blazingtext:1\\\",\\\"AlgorithmName\\\":null,\\\"TrainingInputMode\\\":\\\"FILE\\\",\\\"MetricDefinitions\\\":null,\\\"EnableSageMakerMetricsTimeSeries\\\":null,\\\"ContainerEntrypoint\\\":null,\\\"ContainerArguments\\\":null,\\\"TrainingImageConfig\\\":null},\\\"RoleArn\\\":\\\"arn:aws:iam::759895829784:role/service-role/AmazonSageMaker-ExecutionRole-20240119T140378\\\",\\\"InputDataConfig\\\":[{\\\"ChannelName\\\":\\\"train\\\",\\\"DataSource\\\":{\\\"S3DataSource\\\":{\\\"S3DataType\\\":\\\"S3_PREFIX\\\",\\\"S3Uri\\\":\\\"s3://sagemaker-us-east-1-759895829784/hello_blaze_train_scikit\\\",\\\"S3DataDistributionType\\\":\\\"FULLY_REPLICATED\\\",\\\"AttributeNames\\\":null,\\\"InstanceGroupNames\\\":null},\\\"FileSystemDataSource\\\":null},\\\"ContentType\\\":\\\"text/plain\\\",\\\"CompressionType\\\":\\\"NONE\\\",\\\"RecordWrapperType\\\":\\\"NONE\\\",\\\"InputMode\\\":null,\\\"ShuffleConfig\\\":null,\\\"EnableFFM\\\":null},{\\\"ChannelName\\\":\\\"validation\\\",\\\"DataSource\\\":{\\\"S3DataSource\\\":{\\\"S3DataType\\\":\\\"S3_PREFIX\\\",\\\"S3Uri\\\":\\\"s3://sagemaker-us-east-1-759895829784/hello_blaze_test_scikit\\\",\\\"S3DataDistributionType\\\":\\\"FULLY_REPLICATED\\\",\\\"AttributeNames\\\":null,\\\"InstanceGroupNames\\\":null},\\\"FileSystemDataSource\\\":null},\\\"ContentType\\\":\\\"text/plain\\\",\\\"CompressionType\\\":\\\"NONE\\\",\\\"RecordWrapperType\\\":\\\"NONE\\\",\\\"InputMode\\\":null,\\\"ShuffleConfig\\\":null,\\\"EnableFFM\\\":null}],\\\"OutputDataConfig\\\":{\\\"KmsKeyId\\\":null,\\\"S3OutputPath\\\":\\\"s3://sagemaker-us-east-1-759895829784/ex3-workflow-stepfunc/\\\",\\\"CompressionType\\\":null,\\\"RemoveJobNameFromS3OutputPath\\\":null,\\\"DisableModelUpload\\\":null,\\\"Channels\\\":null},\\\"ResourceConfig\\\":{\\\"InstanceType\\\":\\\"ml.m5.large\\\",\\\"InstanceCount\\\":1,\\\"VolumeSizeInGB\\\":30,\\\"VolumeKmsKeyId\\\":null,\\\"KeepAlivePeriodInSeconds\\\":0,\\\"CapacityReservationIds\\\":null,\\\"InstanceGroups\\\":null},\\\"WarmPoolStatus\\\":null,\\\"VpcConfig\\\":null,\\\"StoppingCondition\\\":{\\\"MaxRuntimeInSeconds\\\":360000,\\\"MaxWaitTimeInSeconds\\\":null,\\\"MaxPendingTimeInSeconds\\\":null},\\\"CreationTime\\\":1706035672416,\\\"TrainingStartTime\\\":1706035757872,\\\"TrainingEndTime\\\":1706035879942,\\\"LastModifiedTime\\\":1706035879942,\\\"SecondaryStatusTransitions\\\":[{\\\"Status\\\":\\\"Starting\\\",\\\"StartTime\\\":1706035672416,\\\"EndTime\\\":1706035757872,\\\"StatusMessage\\\":\\\"Preparing the instances for training\\\"},{\\\"Status\\\":\\\"Downloading\\\",\\\"StartTime\\\":1706035757872,\\\"EndTime\\\":1706035818862,\\\"StatusMessage\\\":\\\"Downloading the training image\\\"},{\\\"Status\\\":\\\"Training\\\",\\\"StartTime\\\":1706035818862,\\\"EndTime\\\":1706035834257,\\\"StatusMessage\\\":\\\"Training image download completed. Training in progress.\\\"},{\\\"Status\\\":\\\"Uploading\\\",\\\"StartTime\\\":1706035834257,\\\"EndTime\\\":1706035879942,\\\"StatusMessage\\\":\\\"Uploading generated training model\\\"},{\\\"Status\\\":\\\"Completed\\\",\\\"StartTime\\\":1706035879942,\\\"EndTime\\\":1706035879942,\\\"StatusMessage\\\":\\\"Training job completed\\\"}],\\\"FinalMetricDataList\\\":null,\\\"EnableNetworkIsolation\\\":null,\\\"EnableInterContainerTrafficEncryption\\\":null,\\\"EnableManagedSpotTraining\\\":null,\\\"CheckpointConfig\\\":null,\\\"TrainingTimeInSeconds\\\":null,\\\"BillableTimeInSeconds\\\":null,\\\"DebugHookConfig\\\":{\\\"LocalPath\\\":null,\\\"S3OutputPath\\\":\\\"s3://sagemaker-us-east-1-759895829784/ex3-workflow-stepfunc/\\\",\\\"HookParameters\\\":null,\\\"CollectionConfigurations\\\":null},\\\"ExperimentConfig\\\":null,\\\"DebugRuleConfigurations\\\":null,\\\"TensorBoardOutputConfig\\\":null,\\\"DebugRuleEvaluationStatuses\\\":null,\\\"UpstreamPlatformConfig\\\":null,\\\"ProfilerConfig\\\":null,\\\"ProfilerRuleConfigurations\\\":null,\\\"ProfilerRuleEvaluationStatuses\\\":null,\\\"ProfilingStatus\\\":null,\\\"Environment\\\":null,\\\"RetryStrategy\\\":null,\\\"LastModifiedBy\\\":null,\\\"CreatedBy\\\":null,\\\"DisableEFA\\\":null,\\\"ProcessingJobConfig\\\":null,\\\"ImageMetadata\\\":null,\\\"RemoteDebugConfig\\\":null,\\\"ResourceTags\\\":null,\\\"InfraCheckConfig\\\":null,\\\"Tags\\\":{\\\"AWS_STEP_FUNCTIONS_EXECUTION_ARN\\\":\\\"arn:aws:states:us-east-1:759895829784:execution:process-training-35377:ad4e9415-6000-44be-b341-695c9bc77a05\\\",\\\"MANAGED_BY_AWS\\\":\\\"STARTED_BY_STEP_FUNCTIONS\\\"}}\", \"outputDetails\": {\"truncated\": false}}}] };\n",
       "\n",
       "    var graph = new sfn.StateMachineExecutionGraph(definition, events, elementId, options);\n",
       "    graph.render();\n",
       "});\n",
       "\n",
       "</script>\n"
      ],
      "text/plain": [
       "<IPython.core.display.HTML object>"
      ]
     },
     "execution_count": 40,
     "metadata": {},
     "output_type": "execute_result"
    }
   ],
   "source": [
    "execution.render_progress()"
   ]
  },
  {
   "cell_type": "code",
   "execution_count": null,
   "id": "fc2b866c-f15c-41c2-858b-e91bcda29da7",
   "metadata": {},
   "outputs": [],
   "source": []
  }
 ],
 "metadata": {
  "availableInstances": [
   {
    "_defaultOrder": 0,
    "_isFastLaunch": true,
    "category": "General purpose",
    "gpuNum": 0,
    "hideHardwareSpecs": false,
    "memoryGiB": 4,
    "name": "ml.t3.medium",
    "vcpuNum": 2
   },
   {
    "_defaultOrder": 1,
    "_isFastLaunch": false,
    "category": "General purpose",
    "gpuNum": 0,
    "hideHardwareSpecs": false,
    "memoryGiB": 8,
    "name": "ml.t3.large",
    "vcpuNum": 2
   },
   {
    "_defaultOrder": 2,
    "_isFastLaunch": false,
    "category": "General purpose",
    "gpuNum": 0,
    "hideHardwareSpecs": false,
    "memoryGiB": 16,
    "name": "ml.t3.xlarge",
    "vcpuNum": 4
   },
   {
    "_defaultOrder": 3,
    "_isFastLaunch": false,
    "category": "General purpose",
    "gpuNum": 0,
    "hideHardwareSpecs": false,
    "memoryGiB": 32,
    "name": "ml.t3.2xlarge",
    "vcpuNum": 8
   },
   {
    "_defaultOrder": 4,
    "_isFastLaunch": true,
    "category": "General purpose",
    "gpuNum": 0,
    "hideHardwareSpecs": false,
    "memoryGiB": 8,
    "name": "ml.m5.large",
    "vcpuNum": 2
   },
   {
    "_defaultOrder": 5,
    "_isFastLaunch": false,
    "category": "General purpose",
    "gpuNum": 0,
    "hideHardwareSpecs": false,
    "memoryGiB": 16,
    "name": "ml.m5.xlarge",
    "vcpuNum": 4
   },
   {
    "_defaultOrder": 6,
    "_isFastLaunch": false,
    "category": "General purpose",
    "gpuNum": 0,
    "hideHardwareSpecs": false,
    "memoryGiB": 32,
    "name": "ml.m5.2xlarge",
    "vcpuNum": 8
   },
   {
    "_defaultOrder": 7,
    "_isFastLaunch": false,
    "category": "General purpose",
    "gpuNum": 0,
    "hideHardwareSpecs": false,
    "memoryGiB": 64,
    "name": "ml.m5.4xlarge",
    "vcpuNum": 16
   },
   {
    "_defaultOrder": 8,
    "_isFastLaunch": false,
    "category": "General purpose",
    "gpuNum": 0,
    "hideHardwareSpecs": false,
    "memoryGiB": 128,
    "name": "ml.m5.8xlarge",
    "vcpuNum": 32
   },
   {
    "_defaultOrder": 9,
    "_isFastLaunch": false,
    "category": "General purpose",
    "gpuNum": 0,
    "hideHardwareSpecs": false,
    "memoryGiB": 192,
    "name": "ml.m5.12xlarge",
    "vcpuNum": 48
   },
   {
    "_defaultOrder": 10,
    "_isFastLaunch": false,
    "category": "General purpose",
    "gpuNum": 0,
    "hideHardwareSpecs": false,
    "memoryGiB": 256,
    "name": "ml.m5.16xlarge",
    "vcpuNum": 64
   },
   {
    "_defaultOrder": 11,
    "_isFastLaunch": false,
    "category": "General purpose",
    "gpuNum": 0,
    "hideHardwareSpecs": false,
    "memoryGiB": 384,
    "name": "ml.m5.24xlarge",
    "vcpuNum": 96
   },
   {
    "_defaultOrder": 12,
    "_isFastLaunch": false,
    "category": "General purpose",
    "gpuNum": 0,
    "hideHardwareSpecs": false,
    "memoryGiB": 8,
    "name": "ml.m5d.large",
    "vcpuNum": 2
   },
   {
    "_defaultOrder": 13,
    "_isFastLaunch": false,
    "category": "General purpose",
    "gpuNum": 0,
    "hideHardwareSpecs": false,
    "memoryGiB": 16,
    "name": "ml.m5d.xlarge",
    "vcpuNum": 4
   },
   {
    "_defaultOrder": 14,
    "_isFastLaunch": false,
    "category": "General purpose",
    "gpuNum": 0,
    "hideHardwareSpecs": false,
    "memoryGiB": 32,
    "name": "ml.m5d.2xlarge",
    "vcpuNum": 8
   },
   {
    "_defaultOrder": 15,
    "_isFastLaunch": false,
    "category": "General purpose",
    "gpuNum": 0,
    "hideHardwareSpecs": false,
    "memoryGiB": 64,
    "name": "ml.m5d.4xlarge",
    "vcpuNum": 16
   },
   {
    "_defaultOrder": 16,
    "_isFastLaunch": false,
    "category": "General purpose",
    "gpuNum": 0,
    "hideHardwareSpecs": false,
    "memoryGiB": 128,
    "name": "ml.m5d.8xlarge",
    "vcpuNum": 32
   },
   {
    "_defaultOrder": 17,
    "_isFastLaunch": false,
    "category": "General purpose",
    "gpuNum": 0,
    "hideHardwareSpecs": false,
    "memoryGiB": 192,
    "name": "ml.m5d.12xlarge",
    "vcpuNum": 48
   },
   {
    "_defaultOrder": 18,
    "_isFastLaunch": false,
    "category": "General purpose",
    "gpuNum": 0,
    "hideHardwareSpecs": false,
    "memoryGiB": 256,
    "name": "ml.m5d.16xlarge",
    "vcpuNum": 64
   },
   {
    "_defaultOrder": 19,
    "_isFastLaunch": false,
    "category": "General purpose",
    "gpuNum": 0,
    "hideHardwareSpecs": false,
    "memoryGiB": 384,
    "name": "ml.m5d.24xlarge",
    "vcpuNum": 96
   },
   {
    "_defaultOrder": 20,
    "_isFastLaunch": false,
    "category": "General purpose",
    "gpuNum": 0,
    "hideHardwareSpecs": true,
    "memoryGiB": 0,
    "name": "ml.geospatial.interactive",
    "supportedImageNames": [
     "sagemaker-geospatial-v1-0"
    ],
    "vcpuNum": 0
   },
   {
    "_defaultOrder": 21,
    "_isFastLaunch": true,
    "category": "Compute optimized",
    "gpuNum": 0,
    "hideHardwareSpecs": false,
    "memoryGiB": 4,
    "name": "ml.c5.large",
    "vcpuNum": 2
   },
   {
    "_defaultOrder": 22,
    "_isFastLaunch": false,
    "category": "Compute optimized",
    "gpuNum": 0,
    "hideHardwareSpecs": false,
    "memoryGiB": 8,
    "name": "ml.c5.xlarge",
    "vcpuNum": 4
   },
   {
    "_defaultOrder": 23,
    "_isFastLaunch": false,
    "category": "Compute optimized",
    "gpuNum": 0,
    "hideHardwareSpecs": false,
    "memoryGiB": 16,
    "name": "ml.c5.2xlarge",
    "vcpuNum": 8
   },
   {
    "_defaultOrder": 24,
    "_isFastLaunch": false,
    "category": "Compute optimized",
    "gpuNum": 0,
    "hideHardwareSpecs": false,
    "memoryGiB": 32,
    "name": "ml.c5.4xlarge",
    "vcpuNum": 16
   },
   {
    "_defaultOrder": 25,
    "_isFastLaunch": false,
    "category": "Compute optimized",
    "gpuNum": 0,
    "hideHardwareSpecs": false,
    "memoryGiB": 72,
    "name": "ml.c5.9xlarge",
    "vcpuNum": 36
   },
   {
    "_defaultOrder": 26,
    "_isFastLaunch": false,
    "category": "Compute optimized",
    "gpuNum": 0,
    "hideHardwareSpecs": false,
    "memoryGiB": 96,
    "name": "ml.c5.12xlarge",
    "vcpuNum": 48
   },
   {
    "_defaultOrder": 27,
    "_isFastLaunch": false,
    "category": "Compute optimized",
    "gpuNum": 0,
    "hideHardwareSpecs": false,
    "memoryGiB": 144,
    "name": "ml.c5.18xlarge",
    "vcpuNum": 72
   },
   {
    "_defaultOrder": 28,
    "_isFastLaunch": false,
    "category": "Compute optimized",
    "gpuNum": 0,
    "hideHardwareSpecs": false,
    "memoryGiB": 192,
    "name": "ml.c5.24xlarge",
    "vcpuNum": 96
   },
   {
    "_defaultOrder": 29,
    "_isFastLaunch": true,
    "category": "Accelerated computing",
    "gpuNum": 1,
    "hideHardwareSpecs": false,
    "memoryGiB": 16,
    "name": "ml.g4dn.xlarge",
    "vcpuNum": 4
   },
   {
    "_defaultOrder": 30,
    "_isFastLaunch": false,
    "category": "Accelerated computing",
    "gpuNum": 1,
    "hideHardwareSpecs": false,
    "memoryGiB": 32,
    "name": "ml.g4dn.2xlarge",
    "vcpuNum": 8
   },
   {
    "_defaultOrder": 31,
    "_isFastLaunch": false,
    "category": "Accelerated computing",
    "gpuNum": 1,
    "hideHardwareSpecs": false,
    "memoryGiB": 64,
    "name": "ml.g4dn.4xlarge",
    "vcpuNum": 16
   },
   {
    "_defaultOrder": 32,
    "_isFastLaunch": false,
    "category": "Accelerated computing",
    "gpuNum": 1,
    "hideHardwareSpecs": false,
    "memoryGiB": 128,
    "name": "ml.g4dn.8xlarge",
    "vcpuNum": 32
   },
   {
    "_defaultOrder": 33,
    "_isFastLaunch": false,
    "category": "Accelerated computing",
    "gpuNum": 4,
    "hideHardwareSpecs": false,
    "memoryGiB": 192,
    "name": "ml.g4dn.12xlarge",
    "vcpuNum": 48
   },
   {
    "_defaultOrder": 34,
    "_isFastLaunch": false,
    "category": "Accelerated computing",
    "gpuNum": 1,
    "hideHardwareSpecs": false,
    "memoryGiB": 256,
    "name": "ml.g4dn.16xlarge",
    "vcpuNum": 64
   },
   {
    "_defaultOrder": 35,
    "_isFastLaunch": false,
    "category": "Accelerated computing",
    "gpuNum": 1,
    "hideHardwareSpecs": false,
    "memoryGiB": 61,
    "name": "ml.p3.2xlarge",
    "vcpuNum": 8
   },
   {
    "_defaultOrder": 36,
    "_isFastLaunch": false,
    "category": "Accelerated computing",
    "gpuNum": 4,
    "hideHardwareSpecs": false,
    "memoryGiB": 244,
    "name": "ml.p3.8xlarge",
    "vcpuNum": 32
   },
   {
    "_defaultOrder": 37,
    "_isFastLaunch": false,
    "category": "Accelerated computing",
    "gpuNum": 8,
    "hideHardwareSpecs": false,
    "memoryGiB": 488,
    "name": "ml.p3.16xlarge",
    "vcpuNum": 64
   },
   {
    "_defaultOrder": 38,
    "_isFastLaunch": false,
    "category": "Accelerated computing",
    "gpuNum": 8,
    "hideHardwareSpecs": false,
    "memoryGiB": 768,
    "name": "ml.p3dn.24xlarge",
    "vcpuNum": 96
   },
   {
    "_defaultOrder": 39,
    "_isFastLaunch": false,
    "category": "Memory Optimized",
    "gpuNum": 0,
    "hideHardwareSpecs": false,
    "memoryGiB": 16,
    "name": "ml.r5.large",
    "vcpuNum": 2
   },
   {
    "_defaultOrder": 40,
    "_isFastLaunch": false,
    "category": "Memory Optimized",
    "gpuNum": 0,
    "hideHardwareSpecs": false,
    "memoryGiB": 32,
    "name": "ml.r5.xlarge",
    "vcpuNum": 4
   },
   {
    "_defaultOrder": 41,
    "_isFastLaunch": false,
    "category": "Memory Optimized",
    "gpuNum": 0,
    "hideHardwareSpecs": false,
    "memoryGiB": 64,
    "name": "ml.r5.2xlarge",
    "vcpuNum": 8
   },
   {
    "_defaultOrder": 42,
    "_isFastLaunch": false,
    "category": "Memory Optimized",
    "gpuNum": 0,
    "hideHardwareSpecs": false,
    "memoryGiB": 128,
    "name": "ml.r5.4xlarge",
    "vcpuNum": 16
   },
   {
    "_defaultOrder": 43,
    "_isFastLaunch": false,
    "category": "Memory Optimized",
    "gpuNum": 0,
    "hideHardwareSpecs": false,
    "memoryGiB": 256,
    "name": "ml.r5.8xlarge",
    "vcpuNum": 32
   },
   {
    "_defaultOrder": 44,
    "_isFastLaunch": false,
    "category": "Memory Optimized",
    "gpuNum": 0,
    "hideHardwareSpecs": false,
    "memoryGiB": 384,
    "name": "ml.r5.12xlarge",
    "vcpuNum": 48
   },
   {
    "_defaultOrder": 45,
    "_isFastLaunch": false,
    "category": "Memory Optimized",
    "gpuNum": 0,
    "hideHardwareSpecs": false,
    "memoryGiB": 512,
    "name": "ml.r5.16xlarge",
    "vcpuNum": 64
   },
   {
    "_defaultOrder": 46,
    "_isFastLaunch": false,
    "category": "Memory Optimized",
    "gpuNum": 0,
    "hideHardwareSpecs": false,
    "memoryGiB": 768,
    "name": "ml.r5.24xlarge",
    "vcpuNum": 96
   },
   {
    "_defaultOrder": 47,
    "_isFastLaunch": false,
    "category": "Accelerated computing",
    "gpuNum": 1,
    "hideHardwareSpecs": false,
    "memoryGiB": 16,
    "name": "ml.g5.xlarge",
    "vcpuNum": 4
   },
   {
    "_defaultOrder": 48,
    "_isFastLaunch": false,
    "category": "Accelerated computing",
    "gpuNum": 1,
    "hideHardwareSpecs": false,
    "memoryGiB": 32,
    "name": "ml.g5.2xlarge",
    "vcpuNum": 8
   },
   {
    "_defaultOrder": 49,
    "_isFastLaunch": false,
    "category": "Accelerated computing",
    "gpuNum": 1,
    "hideHardwareSpecs": false,
    "memoryGiB": 64,
    "name": "ml.g5.4xlarge",
    "vcpuNum": 16
   },
   {
    "_defaultOrder": 50,
    "_isFastLaunch": false,
    "category": "Accelerated computing",
    "gpuNum": 1,
    "hideHardwareSpecs": false,
    "memoryGiB": 128,
    "name": "ml.g5.8xlarge",
    "vcpuNum": 32
   },
   {
    "_defaultOrder": 51,
    "_isFastLaunch": false,
    "category": "Accelerated computing",
    "gpuNum": 1,
    "hideHardwareSpecs": false,
    "memoryGiB": 256,
    "name": "ml.g5.16xlarge",
    "vcpuNum": 64
   },
   {
    "_defaultOrder": 52,
    "_isFastLaunch": false,
    "category": "Accelerated computing",
    "gpuNum": 4,
    "hideHardwareSpecs": false,
    "memoryGiB": 192,
    "name": "ml.g5.12xlarge",
    "vcpuNum": 48
   },
   {
    "_defaultOrder": 53,
    "_isFastLaunch": false,
    "category": "Accelerated computing",
    "gpuNum": 4,
    "hideHardwareSpecs": false,
    "memoryGiB": 384,
    "name": "ml.g5.24xlarge",
    "vcpuNum": 96
   },
   {
    "_defaultOrder": 54,
    "_isFastLaunch": false,
    "category": "Accelerated computing",
    "gpuNum": 8,
    "hideHardwareSpecs": false,
    "memoryGiB": 768,
    "name": "ml.g5.48xlarge",
    "vcpuNum": 192
   },
   {
    "_defaultOrder": 55,
    "_isFastLaunch": false,
    "category": "Accelerated computing",
    "gpuNum": 8,
    "hideHardwareSpecs": false,
    "memoryGiB": 1152,
    "name": "ml.p4d.24xlarge",
    "vcpuNum": 96
   },
   {
    "_defaultOrder": 56,
    "_isFastLaunch": false,
    "category": "Accelerated computing",
    "gpuNum": 8,
    "hideHardwareSpecs": false,
    "memoryGiB": 1152,
    "name": "ml.p4de.24xlarge",
    "vcpuNum": 96
   },
   {
    "_defaultOrder": 57,
    "_isFastLaunch": false,
    "category": "Accelerated computing",
    "gpuNum": 0,
    "hideHardwareSpecs": false,
    "memoryGiB": 32,
    "name": "ml.trn1.2xlarge",
    "vcpuNum": 8
   },
   {
    "_defaultOrder": 58,
    "_isFastLaunch": false,
    "category": "Accelerated computing",
    "gpuNum": 0,
    "hideHardwareSpecs": false,
    "memoryGiB": 512,
    "name": "ml.trn1.32xlarge",
    "vcpuNum": 128
   },
   {
    "_defaultOrder": 59,
    "_isFastLaunch": false,
    "category": "Accelerated computing",
    "gpuNum": 0,
    "hideHardwareSpecs": false,
    "memoryGiB": 512,
    "name": "ml.trn1n.32xlarge",
    "vcpuNum": 128
   }
  ],
  "instance_type": "ml.t3.medium",
  "kernelspec": {
   "display_name": "Python 3 (Base Python 2.0)",
   "language": "python",
   "name": "python3__SAGEMAKER_INTERNAL__arn:aws:sagemaker:us-east-1:081325390199:image/sagemaker-base-python-38"
  },
  "language_info": {
   "codemirror_mode": {
    "name": "ipython",
    "version": 3
   },
   "file_extension": ".py",
   "mimetype": "text/x-python",
   "name": "python",
   "nbconvert_exporter": "python",
   "pygments_lexer": "ipython3",
   "version": "3.8.12"
  }
 },
 "nbformat": 4,
 "nbformat_minor": 5
}
